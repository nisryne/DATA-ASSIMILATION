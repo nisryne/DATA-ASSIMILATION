{
  "cells": [
    {
      "cell_type": "markdown",
      "metadata": {
        "id": "UWHnJrVmaes7"
      },
      "source": [
        "# Cell1"
      ]
    },
    {
      "cell_type": "code",
      "execution_count": null,
      "metadata": {
        "colab": {
          "base_uri": "https://localhost:8080/"
        },
        "id": "JvAM5ed-6LRl",
        "outputId": "ac4bb4af-44e1-4bfa-eacd-8ada8ba33a3e"
      },
      "outputs": [
        {
          "name": "stdout",
          "output_type": "stream",
          "text": [
            "4/4 [==============================] - 0s 4ms/step\n",
            "[[1.4923657e+02 1.1247163e-01 2.5794592e-01 ... 1.6149668e+01\n",
            "  2.2487341e+01 9.2491684e+00]\n",
            " [1.6798560e+02 9.9324889e-02 2.4774355e-01 ... 1.6411552e+01\n",
            "  2.1925413e+01 8.8462162e+00]\n",
            " [1.4502251e+02 9.4562344e-02 2.4725306e-01 ... 1.6925587e+01\n",
            "  2.3388336e+01 8.2550411e+00]\n",
            " ...\n",
            " [1.7739830e+02 1.1435195e-01 2.5932285e-01 ... 1.9645664e+01\n",
            "  1.7975319e+01 9.2904568e+00]\n",
            " [1.4069893e+02 5.7072688e-02 2.4952701e-01 ... 1.9998171e+01\n",
            "  2.0042156e+01 8.1033268e+00]\n",
            " [1.8504865e+02 9.6864305e-02 2.4815729e-01 ... 1.7180897e+01\n",
            "  2.1144474e+01 7.4416142e+00]]\n"
          ]
        }
      ],
      "source": [
        "import pandas as pd\n",
        "from tensorflow.keras.models import load_model\n",
        "from joblib import load\n",
        "# Custom R2 metric function\n",
        "def r2_keras(output_index):\n",
        "    def r2(y_true, y_pred):\n",
        "        SS_res =  K.sum(K.square(y_true[:,output_index] - y_pred[:,output_index]))\n",
        "        SS_tot = K.sum(K.square(y_true[:,output_index] - K.mean(y_true[:,output_index])))\n",
        "        r2 = 1 - SS_res/(SS_tot + K.epsilon())\n",
        "        return r2\n",
        "    r2._name_ = f\"r2_{output_index}\"\n",
        "    return r2\n",
        "# Load the CSV data\n",
        "data = pd.read_csv('/content/input - Feuille 1.csv')\n",
        "# Remplacez les virgules par des points dans les colonnes appropriées\n",
        "columns_to_replace_commas = [ 'Net Volume', 'Pulp Area', 'Froth surface area', 'Froth thickness', 'Air Flow rate', 'R_inf Ccp', 'R_inf Gn', 'R_inf Po', 'R_inf Sp', 'k_max Ccp', 'k_max Gn', 'k_maxPo', 'k_max Sp', 'Entrainement Savassi parameters', 'Total Solids Flow_Feed', 'Total Liquid Flow_Feed', 'Pulp Volumetric Flow_Feed', 'Solids SG_Feed', 'Pulp SG_Feed', 'Solids Fraction_Feed', 'Cu_Feed', 'Fe_Feed', 'Pb_Feed', 'Zn_Feed' ]\n",
        "data[columns_to_replace_commas] = data[columns_to_replace_commas].replace({',': '.'}, regex=True)\n",
        "\n",
        "# Select the desired columns\n",
        "selected_columns = [ 'Net Volume', 'Pulp Area', 'Froth surface area', 'Froth thickness', 'Air Flow rate', 'R_inf Ccp', 'R_inf Gn', 'R_inf Po', 'R_inf Sp', 'k_max Ccp', 'k_max Gn', 'k_maxPo', 'k_max Sp', 'Entrainement Savassi parameters', 'Total Solids Flow_Feed', 'Total Liquid Flow_Feed', 'Pulp Volumetric Flow_Feed', 'Solids SG_Feed', 'Pulp SG_Feed', 'Solids Fraction_Feed', 'Cu_Feed', 'Fe_Feed', 'Pb_Feed', 'Zn_Feed' ]  # Add all your columns\n",
        "input_data = data[selected_columns]\n",
        "\n",
        "# Load the machine learning model\n",
        "model = load_model('/content/model7_23.h5', custom_objects={f'r2_{i}': r2_keras(i) for i in range(23)})\n",
        "\n",
        "# Load the scalers\n",
        "scalerX = load('/content/scalerX_24.joblib')\n",
        "scalerY = load('/content/scalerY_23.joblib')\n",
        "\n",
        "# Scale input features\n",
        "scaled_input = scalerX.transform(input_data)\n",
        "\n",
        "# Make predictions\n",
        "raw_predictions = model.predict(scaled_input)\n",
        "\n",
        "# Reverse scale the output\n",
        "final_predictions = scalerY.inverse_transform(raw_predictions)\n",
        "\n",
        "# Display the predictions\n",
        "print(final_predictions)\n"
      ]
    },
    {
      "cell_type": "markdown",
      "metadata": {
        "id": "1_hhmhGpapHw"
      },
      "source": [
        "# L'accuracy de model AI j'ai choisi just 3 colonnes"
      ]
    },
    {
      "cell_type": "code",
      "execution_count": null,
      "metadata": {
        "colab": {
          "base_uri": "https://localhost:8080/"
        },
        "id": "1xKyqG0Gscm3",
        "outputId": "f4612711-6996-4e2f-bef2-579f1d071850"
      },
      "outputs": [
        {
          "name": "stdout",
          "output_type": "stream",
          "text": [
            "Air Efficiency MSE: 530.4009\n",
            "Flotation Rate: Cell 1 MSE: 0.0032\n",
            "Entrainment: Cell 1 MSE: 0.0001\n",
            "Average MSE: 176.8014\n"
          ]
        }
      ],
      "source": [
        "import pandas as pd\n",
        "from sklearn.metrics import mean_squared_error\n",
        "import numpy as np\n",
        "\n",
        "# Load the data from the files\n",
        "ground_truth_df = pd.read_csv('/content/output_observation - Sheet1.csv')  # Replace with the actual path\n",
        "predicted_df = pd.read_csv('/content/output - Sheet1.csv')  # Replace with the actual path\n",
        "\n",
        "# Ensure both DataFrames have the same number of rows\n",
        "if ground_truth_df.shape[0] != predicted_df.shape[0]:\n",
        "    raise ValueError(\"Number of rows in ground truth and predicted DataFrames must be the same.\")\n",
        "\n",
        "# Extract ground truth and predicted values for all columns\n",
        "actual_values = ground_truth_df.values\n",
        "predicted_values = predicted_df.values\n",
        "\n",
        "# Calculate MSE for each column\n",
        "mse_scores = [mean_squared_error(actual_values[:, i], predicted_values[:, i]) for i in range(actual_values.shape[1])]\n",
        "\n",
        "# Print individual MSE values and average MSE\n",
        "for col, mse in zip(ground_truth_df.columns, mse_scores):\n",
        "    print(f'{col} MSE: {mse:.4f}')\n",
        "\n",
        "average_mse = np.mean(mse_scores)\n",
        "print(f'Average MSE: {average_mse:.4f}')\n"
      ]
    },
    {
      "cell_type": "markdown",
      "source": [
        "# Accuracy entre observation et output prediction cell1"
      ],
      "metadata": {
        "id": "EViTVNZdBZaU"
      }
    },
    {
      "cell_type": "code",
      "execution_count": null,
      "metadata": {
        "colab": {
          "base_uri": "https://localhost:8080/"
        },
        "id": "lg9e2ZjsC3Dv",
        "outputId": "bc252964-b8c7-4e94-9831-5146df581985"
      },
      "outputs": [
        {
          "name": "stdout",
          "output_type": "stream",
          "text": [
            "Air Efficiency MSE: 532.5108\n",
            " Flotation Rate MSE: 0.0032\n",
            "Entrainment: Cell 1 MSE: 0.0000\n",
            "Total Solids Flow_Concentrate MSE: 565.7538\n",
            "Total Liquid Flow_Concentrate MSE: 26373.8785\n",
            "Pulp Volumetric Flow_Concentrate MSE: 25515.8789\n",
            "Solids SG_Concentrate MSE: 0.4725\n",
            "Pulp SG_Concentrate MSE: 2.9040\n",
            "Solids Fraction_Concentrate MSE: 3857.6269\n",
            "Cu_Concentrate MSE: 12419.1416\n",
            "Pb_Concentrate MSE: 908.2541\n",
            "Fe_Concentrate MSE: 1756.6499\n",
            "Zn_Concentrate MSE: 45.6754\n",
            "Total Solids Flow_Tailings MSE: 8756.5709\n",
            "Total Liquid Flow_Tailings MSE: 10022.5826\n",
            "Pulp Volumetric Flow_Tailings MSE: 36790.7912\n",
            "Solids SG_Tailings MSE: 209.8043\n",
            "Pulp SG_Tailings MSE: 6.9529\n",
            "Solids Fraction_Tailings MSE: 1.9774\n",
            "Cu_Tails MSE: 0.0157\n",
            "Pb_Tails MSE: 32.7130\n",
            "Fe_Tails MSE: 33.6004\n",
            "Zn_Tails MSE: 0.0321\n",
            "Average MSE: 5557.9909\n"
          ]
        }
      ],
      "source": [
        "import pandas as pd\n",
        "from sklearn.metrics import mean_squared_error\n",
        "import numpy as np\n",
        "\n",
        "# Load the data from the files\n",
        "ground_truth_df = pd.read_excel('/content/output_data.xlsx', engine='openpyxl')  # Replace with the actual path\n",
        "predicted_df = pd.read_excel('/content/output_predictions1 (2).xlsx', engine='openpyxl')   # Replace with the actual path\n",
        "\n",
        "# Ensure both DataFrames have the same number of rows\n",
        "if ground_truth_df.shape[0] != predicted_df.shape[0]:\n",
        "    raise ValueError(\"Number of rows in ground truth and predicted DataFrames must be the same.\")\n",
        "\n",
        "# Extract ground truth and predicted values for all columns\n",
        "actual_values = ground_truth_df.values\n",
        "predicted_values = predicted_df.values\n",
        "\n",
        "# Calculate MSE for each column\n",
        "mse_scores = [mean_squared_error(actual_values[:, i], predicted_values[:, i]) for i in range(actual_values.shape[1])]\n",
        "\n",
        "# Print individual MSE values and average MSE\n",
        "for col, mse in zip(ground_truth_df.columns, mse_scores):\n",
        "    print(f'{col} MSE: {mse:.4f}')\n",
        "\n",
        "average_mse = np.mean(mse_scores)\n",
        "print(f'Average MSE: {average_mse:.4f}')\n"
      ]
    },
    {
      "cell_type": "markdown",
      "metadata": {
        "id": "U6wBWs81a6hN"
      },
      "source": [
        "# Génerer le fichier output1 du modelAI pour cell1"
      ]
    },
    {
      "cell_type": "code",
      "execution_count": null,
      "metadata": {
        "id": "DAU9a18AtR40"
      },
      "outputs": [],
      "source": [
        "import pandas as pd\n",
        "\n",
        "# Assuming 'final_predictions' contains your predictions\n",
        "# You can replace it with the actual variable name if it's different\n",
        "predictions_df = pd.DataFrame(final_predictions, columns=['Air Efficiency', 'Flotation Rate: Cell 1', 'Entrainment: Cell 1', 'Total Solids Flow_Concentrate', 'Total Liquid Flow_Concentrate', 'Pulp Volumetric Flow_Concentrate', 'Solids SG_Concentrate', 'Pulp SG_Concentrate', 'Solids Fraction_Concentrate', 'Total Solids Flow_Tailings', 'Total Liquid Flow_Tailings', 'Pulp Volumetric Flow_Tailings', 'Solids SG_Tailings', 'Pulp SG_Tailings', 'Solids Fraction_Tailings', 'Cu_Tails', 'Fe_Tails', 'Pb_Tails', 'Zn_Tails', 'Cu_Concentrate', 'Fe_Concentrate', 'Pb_Concentrate', 'Zn_Concentrate'])\n",
        "\n",
        "# Save the DataFrame to a CSV file\n",
        "predictions_df.head(100).to_excel('/content/output1.xlsx', index=False)\n"
      ]
    },
    {
      "cell_type": "markdown",
      "metadata": {
        "id": "5Z78zBnmbGL_"
      },
      "source": [
        "# L'accuracy du concentrate"
      ]
    },
    {
      "cell_type": "code",
      "execution_count": null,
      "metadata": {
        "colab": {
          "base_uri": "https://localhost:8080/"
        },
        "id": "XwoN42BMFYWJ",
        "outputId": "33148adf-a9da-4805-ce05-b7faddb3fc60"
      },
      "outputs": [
        {
          "name": "stdout",
          "output_type": "stream",
          "text": [
            "Total Solids Flow_Concentrate MAE: 20.58\n",
            "Total Liquid Flow_Concentrate MAE: 153.33\n",
            "Pulp Volumetric Flow_Concentrate MAE: 148.90\n",
            "Solids SG_Concentrate MAE: 0.68\n",
            "Pulp SG_Concentrate MAE: 1.51\n",
            "Solids Fraction_Concentrate MAE: 55.83\n",
            "Cu_Concentrate MAE: 0.78\n",
            "Fe_Concentrate MAE: 0.67\n",
            "Pb_Concentrate MAE: 17.98\n",
            "Zn_Concentrate MAE: 2.46\n",
            "Average MAE: 40.27\n"
          ]
        }
      ],
      "source": [
        "import pandas as pd\n",
        "from sklearn.metrics import mean_absolute_error\n",
        "\n",
        "# Load the data from the files\n",
        "# Load the data from the files\n",
        "ground_truth_df = pd.read_excel('/content/concentrate_observation.xlsx', engine='openpyxl')  # Replace with the actual path\n",
        "predicted_df = pd.read_excel('/content/concentrate_predection.xlsx', engine='openpyxl')\n",
        "\n",
        "# Ensure both DataFrames have the same number of rows\n",
        "if ground_truth_df.shape[0] != predicted_df.shape[0]:\n",
        "    raise ValueError(\"Number of rows in ground truth and predicted DataFrames must be the same.\")\n",
        "\n",
        "# Columns for which you want to calculate accuracy\n",
        "selected_columns = ['Total Solids Flow_Concentrate', 'Total Liquid Flow_Concentrate', 'Pulp Volumetric Flow_Concentrate', 'Solids SG_Concentrate', 'Pulp SG_Concentrate', 'Solids Fraction_Concentrate',  'Cu_Concentrate', 'Fe_Concentrate', 'Pb_Concentrate', 'Zn_Concentrate']\n",
        "\n",
        "# Extract ground truth and predicted values for the specified columns\n",
        "actual_values = ground_truth_df[selected_columns].values\n",
        "predicted_values = predicted_df[selected_columns].values\n",
        "\n",
        "# Calculate Mean Absolute Error (MAE) for each column\n",
        "mae_values = [mean_absolute_error(actual_values[:, i], predicted_values[:, i]) for i in range(len(selected_columns))]\n",
        "\n",
        "# Print individual MAE values and average MAE\n",
        "for col, mae in zip(selected_columns, mae_values):\n",
        "    print(f'{col} MAE: {mae:.2f}')\n",
        "\n",
        "average_mae = sum(mae_values) / len(mae_values)\n",
        "print(f'Average MAE: {average_mae:.2f}')"
      ]
    },
    {
      "cell_type": "markdown",
      "metadata": {
        "id": "rZ3A4UsVbLiS"
      },
      "source": [
        "# ModelAI pour cell2"
      ]
    },
    {
      "cell_type": "code",
      "execution_count": null,
      "metadata": {
        "colab": {
          "base_uri": "https://localhost:8080/"
        },
        "id": "0cE829V3JiJV",
        "outputId": "f82ac2a3-0856-42cf-a7dd-f3aca72e3c80"
      },
      "outputs": [
        {
          "name": "stdout",
          "output_type": "stream",
          "text": [
            "4/4 [==============================] - 0s 4ms/step\n",
            "[[178.54042      0.3630288    0.18348747 ...  14.924752    35.403873\n",
            "    6.6234245 ]\n",
            " [165.70775      0.33116597   0.19037765 ...  15.104642    35.140842\n",
            "    6.4505577 ]\n",
            " [173.14876      0.3851693    0.17889892 ...  15.676835    35.62004\n",
            "    6.0844374 ]\n",
            " ...\n",
            " [130.69472      0.30203715   0.20174891 ...  17.828182    31.679512\n",
            "    6.8263063 ]\n",
            " [118.22858      0.3136952    0.21163125 ...  17.538631    34.550766\n",
            "    6.184982  ]\n",
            " [142.48808      0.30044243   0.1960605  ...  15.84151     34.51045\n",
            "    5.750664  ]]\n"
          ]
        }
      ],
      "source": [
        "import pandas as pd\n",
        "from tensorflow.keras.models import load_model\n",
        "from joblib import load\n",
        "# Custom R2 metric function\n",
        "def r2_keras(output_index):\n",
        "    def r2(y_true, y_pred):\n",
        "        SS_res =  K.sum(K.square(y_true[:,output_index] - y_pred[:,output_index]))\n",
        "        SS_tot = K.sum(K.square(y_true[:,output_index] - K.mean(y_true[:,output_index])))\n",
        "        r2 = 1 - SS_res/(SS_tot + K.epsilon())\n",
        "        return r2\n",
        "    r2._name_ = f\"r2_{output_index}\"\n",
        "    return r2\n",
        "# Load the CSV data\n",
        "data =pd.read_excel('/content/input_cell2.xlsx', engine='openpyxl')\n",
        "# Remplacez les virgules par des points dans les colonnes appropriées\n",
        "columns_to_replace_commas = [ 'Net Volume', 'Pulp Area', 'Froth surface area', 'Froth thickness', 'Air Flow rate', 'R_inf Ccp', 'R_inf Gn', 'R_inf Po', 'R_inf Sp', 'k_max Ccp', 'k_max Gn', 'k_maxPo', 'k_max Sp', 'Entrainement Savassi parameters', 'Total Solids Flow_Feed', 'Total Liquid Flow_Feed', 'Pulp Volumetric Flow_Feed', 'Solids SG_Feed', 'Pulp SG_Feed', 'Solids Fraction_Feed', 'Cu_Feed', 'Fe_Feed', 'Pb_Feed', 'Zn_Feed' ]\n",
        "data[columns_to_replace_commas] = data[columns_to_replace_commas].replace({',': '.'}, regex=True)\n",
        "\n",
        "# Select the desired columns\n",
        "selected_columns = [ 'Net Volume', 'Pulp Area', 'Froth surface area', 'Froth thickness', 'Air Flow rate', 'R_inf Ccp', 'R_inf Gn', 'R_inf Po', 'R_inf Sp', 'k_max Ccp', 'k_max Gn', 'k_maxPo', 'k_max Sp', 'Entrainement Savassi parameters', 'Total Solids Flow_Feed', 'Total Liquid Flow_Feed', 'Pulp Volumetric Flow_Feed', 'Solids SG_Feed', 'Pulp SG_Feed', 'Solids Fraction_Feed', 'Cu_Feed', 'Fe_Feed', 'Pb_Feed', 'Zn_Feed' ]  # Add all your columns\n",
        "input_data = data[selected_columns]\n",
        "\n",
        "# Load the machine learning model\n",
        "model2 = load_model('/content/model7_23.h5', custom_objects={f'r2_{i}': r2_keras(i) for i in range(23)})\n",
        "\n",
        "# Load the scalers\n",
        "scalerX = load('/content/scalerX_24.joblib')\n",
        "scalerY = load('/content/scalerY_23.joblib')\n",
        "\n",
        "# Scale input features\n",
        "scaled_input = scalerX.transform(input_data)\n",
        "\n",
        "# Make predictions\n",
        "raw_predictions = model2.predict(scaled_input)\n",
        "\n",
        "# Reverse scale the output\n",
        "final_predictions = scalerY.inverse_transform(raw_predictions)\n",
        "\n",
        "# Display the predictions\n",
        "print(final_predictions)\n"
      ]
    },
    {
      "cell_type": "markdown",
      "metadata": {
        "id": "WBZ3ILakbRLB"
      },
      "source": [
        "# Générer le fichier output du modelAI pou cell2"
      ]
    },
    {
      "cell_type": "code",
      "execution_count": null,
      "metadata": {
        "id": "ZM-zcskBQOEI"
      },
      "outputs": [],
      "source": [
        "import pandas as pd\n",
        "\n",
        "# Assuming 'final_predictions' contains your predictions\n",
        "# You can replace it with the actual variable name if it's different\n",
        "predictions_df = pd.DataFrame(final_predictions, columns=['Air Efficiency', 'Flotation Rate: Cell 2', 'Entrainment: Cell 2', 'Total Solids Flow_Concentrate', 'Total Liquid Flow_Concentrate', 'Pulp Volumetric Flow_Concentrate', 'Solids SG_Concentrate', 'Pulp SG_Concentrate', 'Solids Fraction_Concentrate', 'Total Solids Flow_Tailings', 'Total Liquid Flow_Tailings', 'Pulp Volumetric Flow_Tailings', 'Solids SG_Tailings', 'Pulp SG_Tailings', 'Solids Fraction_Tailings', 'Cu_Tails', 'Fe_Tails', 'Pb_Tails', 'Zn_Tails', 'Cu_Concentrate', 'Fe_Concentrate', 'Pb_Concentrate', 'Zn_Concentrate'])\n",
        "\n",
        "# Save the DataFrame to a CSV file\n",
        "predictions_df.head(100).to_excel('/content/output2.xlsx', index=False)\n"
      ]
    },
    {
      "cell_type": "code",
      "execution_count": null,
      "metadata": {
        "colab": {
          "base_uri": "https://localhost:8080/"
        },
        "id": "_Ifv4oxOS-yG",
        "outputId": "fb7fe6c7-1de4-47c7-8364-b927245e91dd"
      },
      "outputs": [
        {
          "name": "stdout",
          "output_type": "stream",
          "text": [
            "Ground Truth Shape: (100, 23)\n",
            "Predicted Shape: (100, 23)\n"
          ]
        }
      ],
      "source": [
        "print(\"Ground Truth Shape:\", ground_truth_df.shape)\n",
        "print(\"Predicted Shape:\", predicted_df.shape)\n"
      ]
    },
    {
      "cell_type": "markdown",
      "metadata": {
        "id": "5Zz9D6D2bZJg"
      },
      "source": [
        "# L'accuracy du model AI pou cell2"
      ]
    },
    {
      "cell_type": "code",
      "execution_count": null,
      "metadata": {
        "colab": {
          "base_uri": "https://localhost:8080/"
        },
        "id": "3LCaeORQVBrP",
        "outputId": "13abbd8c-70d7-4cde-f5ee-d01f346ce333"
      },
      "outputs": [
        {
          "name": "stdout",
          "output_type": "stream",
          "text": [
            "Air Efficiency MAE: 149.29\n",
            "Flotation Rate: Cell 2 MAE: 0.36\n",
            "Entrainment: Cell 2 MAE: 0.10\n",
            "Total Solids Flow_Concentrate MAE: 28.05\n",
            "Total Liquid Flow_Concentrate MAE: 179.45\n",
            "Pulp Volumetric Flow_Concentrate MAE: 147.46\n",
            "Solids SG_Concentrate MAE: 1.29\n",
            "Pulp SG_Concentrate MAE: 1.66\n",
            "Solids Fraction_Concentrate MAE: 63.06\n",
            "Total Solids Flow_Tailings MAE: 41.30\n",
            "Total Liquid Flow_Tailings MAE: 92.12\n",
            "Pulp Volumetric Flow_Tailings MAE: 105.19\n",
            "Solids SG_Tailings MAE: 1.25\n",
            "Pulp SG_Tailings MAE: 1.75\n",
            "Solids Fraction_Tailings MAE: 33.05\n",
            "Cu_Tails MAE: 1.36\n",
            "Fe_Tails MAE: 6.43\n",
            "Pb_Tails MAE: 32.83\n",
            "Zn_Tails MAE: 3.87\n",
            "Cu_Concentrate MAE: 1.23\n",
            "Fe_Concentrate MAE: 2.27\n",
            "Pb_Concentrate MAE: 31.51\n",
            "Zn_Concentrate MAE: 4.52\n",
            "Average MAE: 40.41\n"
          ]
        }
      ],
      "source": [
        "import pandas as pd\n",
        "from sklearn.metrics import mean_absolute_error\n",
        "\n",
        "# Load the data from the files\n",
        "# Load the data from the files\n",
        "ground_truth_df = pd.read_excel('/content/output_observation2.xlsx', engine='openpyxl')  # Replace with the actual path\n",
        "predicted_df = pd.read_excel('/content/output2.xlsx', engine='openpyxl')\n",
        "\n",
        "# Ensure both DataFrames have the same number of rows\n",
        "if ground_truth_df.shape[0] != predicted_df.shape[0]:\n",
        "    raise ValueError(\"Number of rows in ground truth and predicted DataFrames must be the same.\")\n",
        "\n",
        "# Columns for which you want to calculate accuracy\n",
        "selected_columns = ['Air Efficiency', 'Flotation Rate: Cell 2', 'Entrainment: Cell 2', 'Total Solids Flow_Concentrate', 'Total Liquid Flow_Concentrate', 'Pulp Volumetric Flow_Concentrate', 'Solids SG_Concentrate', 'Pulp SG_Concentrate', 'Solids Fraction_Concentrate', 'Total Solids Flow_Tailings', 'Total Liquid Flow_Tailings', 'Pulp Volumetric Flow_Tailings', 'Solids SG_Tailings', 'Pulp SG_Tailings', 'Solids Fraction_Tailings', 'Cu_Tails', 'Fe_Tails', 'Pb_Tails', 'Zn_Tails', 'Cu_Concentrate', 'Fe_Concentrate', 'Pb_Concentrate', 'Zn_Concentrate']\n",
        "\n",
        "# Extract ground truth and predicted values for the specified columns\n",
        "actual_values = ground_truth_df[selected_columns].values\n",
        "predicted_values = predicted_df[selected_columns].values\n",
        "\n",
        "# Calculate Mean Absolute Error (MAE) for each column\n",
        "mae_values = [mean_absolute_error(actual_values[:, i], predicted_values[:, i]) for i in range(len(selected_columns))]\n",
        "\n",
        "# Print individual MAE values and average MAE\n",
        "for col, mae in zip(selected_columns, mae_values):\n",
        "    print(f'{col} MAE: {mae:.2f}')\n",
        "\n",
        "average_mae = sum(mae_values) / len(mae_values)\n",
        "print(f'Average MAE: {average_mae:.2f}')"
      ]
    },
    {
      "cell_type": "markdown",
      "source": [
        "# L'accuracy du concentrate"
      ],
      "metadata": {
        "id": "O2XQBcGsB4pK"
      }
    },
    {
      "cell_type": "code",
      "execution_count": null,
      "metadata": {
        "colab": {
          "base_uri": "https://localhost:8080/"
        },
        "id": "mnhTcQAvXf2L",
        "outputId": "880fbdf6-41c2-4655-c5fc-b3de07bebf7c"
      },
      "outputs": [
        {
          "name": "stdout",
          "output_type": "stream",
          "text": [
            "Total Solids Flow_Concentrate MAE: 28.05\n",
            "Total Liquid Flow_Concentrate MAE: 179.45\n",
            "Pulp Volumetric Flow_Concentrate MAE: 147.46\n",
            "Solids SG_Concentrate MAE: 1.29\n",
            "Pulp SG_Concentrate MAE: 1.66\n",
            "Solids Fraction_Concentrate MAE: 63.06\n",
            "Cu_Concentrate MAE: 1.23\n",
            "Fe_Concentrate MAE: 2.27\n",
            "Pb_Concentrate MAE: 31.51\n",
            "Zn_Concentrate MAE: 4.52\n",
            "Average MAE: 46.05\n"
          ]
        }
      ],
      "source": [
        "import pandas as pd\n",
        "from sklearn.metrics import mean_absolute_error\n",
        "\n",
        "# Load the data from the files\n",
        "# Load the data from the files\n",
        "ground_truth_df = pd.read_excel('/content/concentrate_observation2.xlsx', engine='openpyxl')  # Replace with the actual path\n",
        "predicted_df = pd.read_excel('/content/concentrate_predection2.xlsx', engine='openpyxl')\n",
        "\n",
        "# Ensure both DataFrames have the same number of rows\n",
        "if ground_truth_df.shape[0] != predicted_df.shape[0]:\n",
        "    raise ValueError(\"Number of rows in ground truth and predicted DataFrames must be the same.\")\n",
        "\n",
        "# Columns for which you want to calculate accuracy\n",
        "selected_columns = ['Total Solids Flow_Concentrate', 'Total Liquid Flow_Concentrate', 'Pulp Volumetric Flow_Concentrate', 'Solids SG_Concentrate', 'Pulp SG_Concentrate', 'Solids Fraction_Concentrate',  'Cu_Concentrate', 'Fe_Concentrate', 'Pb_Concentrate', 'Zn_Concentrate']\n",
        "\n",
        "# Extract ground truth and predicted values for the specified columns\n",
        "actual_values = ground_truth_df[selected_columns].values\n",
        "predicted_values = predicted_df[selected_columns].values\n",
        "\n",
        "# Calculate Mean Absolute Error (MAE) for each column\n",
        "mae_values = [mean_absolute_error(actual_values[:, i], predicted_values[:, i]) for i in range(len(selected_columns))]\n",
        "\n",
        "# Print individual MAE values and average MAE\n",
        "for col, mae in zip(selected_columns, mae_values):\n",
        "    print(f'{col} MAE: {mae:.2f}')\n",
        "\n",
        "average_mae = sum(mae_values) / len(mae_values)\n",
        "print(f'Average MAE: {average_mae:.2f}')"
      ]
    },
    {
      "cell_type": "markdown",
      "metadata": {
        "id": "OaOkDTrGtDp4"
      },
      "source": [
        "# ModelAI pour cell4"
      ]
    },
    {
      "cell_type": "code",
      "execution_count": null,
      "metadata": {
        "colab": {
          "base_uri": "https://localhost:8080/"
        },
        "id": "EWBIA5ong8Yg",
        "outputId": "8877bc13-8bfe-45af-8826-3ce98495f102"
      },
      "outputs": [
        {
          "name": "stdout",
          "output_type": "stream",
          "text": [
            "4/4 [==============================] - 0s 4ms/step\n",
            "[[2.82483154e+02 6.74210906e-01 1.52404740e-01 ... 1.47558918e+01\n",
            "  4.25263062e+01 5.68072557e+00]\n",
            " [2.69481445e+02 6.51477218e-01 1.59645364e-01 ... 1.48608675e+01\n",
            "  4.27288170e+01 5.68152905e+00]\n",
            " [2.94752075e+02 6.90403581e-01 1.45611927e-01 ... 1.52029467e+01\n",
            "  4.24271126e+01 5.35669088e+00]\n",
            " ...\n",
            " [2.51604431e+02 6.39278471e-01 1.66184381e-01 ... 1.61532841e+01\n",
            "  4.12211380e+01 5.65715408e+00]\n",
            " [2.51839050e+02 6.48463964e-01 1.74407378e-01 ... 1.62092762e+01\n",
            "  4.27794075e+01 5.53410673e+00]\n",
            " [2.48996628e+02 6.06924772e-01 1.67390749e-01 ... 1.53622551e+01\n",
            "  4.25772896e+01 5.39850235e+00]]\n"
          ]
        }
      ],
      "source": [
        "import pandas as pd\n",
        "from tensorflow.keras.models import load_model\n",
        "from joblib import load\n",
        "# Custom R2 metric function\n",
        "def r2_keras(output_index):\n",
        "    def r2(y_true, y_pred):\n",
        "        SS_res =  K.sum(K.square(y_true[:,output_index] - y_pred[:,output_index]))\n",
        "        SS_tot = K.sum(K.square(y_true[:,output_index] - K.mean(y_true[:,output_index])))\n",
        "        r2 = 1 - SS_res/(SS_tot + K.epsilon())\n",
        "        return r2\n",
        "    r2._name_ = f\"r2_{output_index}\"\n",
        "    return r2\n",
        "# Load the CSV data\n",
        "data =pd.read_excel('/content/input_cell4.xlsx', engine='openpyxl')\n",
        "# Remplacez les virgules par des points dans les colonnes appropriées\n",
        "columns_to_replace_commas = [ 'Net Volume', 'Pulp Area', 'Froth surface area', 'Froth thickness', 'Air Flow rate', 'R_inf Ccp', 'R_inf Gn', 'R_inf Po', 'R_inf Sp', 'k_max Ccp', 'k_max Gn', 'k_maxPo', 'k_max Sp', 'Entrainement Savassi parameters', 'Total Solids Flow_Feed', 'Total Liquid Flow_Feed', 'Pulp Volumetric Flow_Feed', 'Solids SG_Feed', 'Pulp SG_Feed', 'Solids Fraction_Feed', 'Cu_Feed', 'Fe_Feed', 'Pb_Feed', 'Zn_Feed' ]\n",
        "data[columns_to_replace_commas] = data[columns_to_replace_commas].replace({',': '.'}, regex=True)\n",
        "\n",
        "# Select the desired columns\n",
        "selected_columns = [ 'Net Volume', 'Pulp Area', 'Froth surface area', 'Froth thickness', 'Air Flow rate', 'R_inf Ccp', 'R_inf Gn', 'R_inf Po', 'R_inf Sp', 'k_max Ccp', 'k_max Gn', 'k_maxPo', 'k_max Sp', 'Entrainement Savassi parameters', 'Total Solids Flow_Feed', 'Total Liquid Flow_Feed', 'Pulp Volumetric Flow_Feed', 'Solids SG_Feed', 'Pulp SG_Feed', 'Solids Fraction_Feed', 'Cu_Feed', 'Fe_Feed', 'Pb_Feed', 'Zn_Feed' ]  # Add all your columns\n",
        "input_data = data[selected_columns]\n",
        "\n",
        "# Load the machine learning model\n",
        "model4 = load_model('/content/model7_23.h5', custom_objects={f'r2_{i}': r2_keras(i) for i in range(23)})\n",
        "\n",
        "# Load the scalers\n",
        "scalerX = load('/content/scalerX_24.joblib')\n",
        "scalerY = load('/content/scalerY_23.joblib')\n",
        "\n",
        "# Scale input features\n",
        "scaled_input = scalerX.transform(input_data)\n",
        "\n",
        "# Make predictions\n",
        "raw_predictions = model4.predict(scaled_input)\n",
        "\n",
        "# Reverse scale the output\n",
        "final_predictions = scalerY.inverse_transform(raw_predictions)\n",
        "\n",
        "# Display the predictions\n",
        "print(final_predictions)\n"
      ]
    },
    {
      "cell_type": "code",
      "execution_count": null,
      "metadata": {
        "id": "en_jZ28llhqe"
      },
      "outputs": [],
      "source": [
        "import pandas as pd\n",
        "\n",
        "# Assuming 'final_predictions' contains your predictions\n",
        "# You can replace it with the actual variable name if it's different\n",
        "predictions_df = pd.DataFrame(final_predictions, columns=['Air Efficiency', 'Flotation Rate: Cell 4', 'Entrainment: Cell 4', 'Total Solids Flow_Concentrate', 'Total Liquid Flow_Concentrate', 'Pulp Volumetric Flow_Concentrate', 'Solids SG_Concentrate', 'Pulp SG_Concentrate', 'Solids Fraction_Concentrate', 'Total Solids Flow_Tailings', 'Total Liquid Flow_Tailings', 'Pulp Volumetric Flow_Tailings', 'Solids SG_Tailings', 'Pulp SG_Tailings', 'Solids Fraction_Tailings', 'Cu_Tails', 'Fe_Tails', 'Pb_Tails', 'Zn_Tails', 'Cu_Concentrate', 'Fe_Concentrate', 'Pb_Concentrate', 'Zn_Concentrate'])\n",
        "\n",
        "# Save the DataFrame to a CSV file\n",
        "predictions_df.head(100).to_excel('/content/output4.xlsx', index=False)\n"
      ]
    },
    {
      "cell_type": "markdown",
      "metadata": {
        "id": "4EX5mb0Es39h"
      },
      "source": [
        "# L'accuracy du model AI pour cell4"
      ]
    },
    {
      "cell_type": "code",
      "execution_count": null,
      "metadata": {
        "colab": {
          "base_uri": "https://localhost:8080/"
        },
        "id": "3f-Ebh_ikRkh",
        "outputId": "4e16aa1f-8d56-4cff-9095-7c25c3a1fb4b"
      },
      "outputs": [
        {
          "name": "stdout",
          "output_type": "stream",
          "text": [
            "Air Efficiency MAE: 271.76\n",
            "Flotation Rate: Cell 4 MAE: 0.67\n",
            "Entrainment: Cell 4 MAE: 0.13\n",
            "Total Solids Flow_Concentrate MAE: 29.65\n",
            "Total Liquid Flow_Concentrate MAE: 307.89\n",
            "Pulp Volumetric Flow_Concentrate MAE: 261.88\n",
            "Solids SG_Concentrate MAE: 1.60\n",
            "Pulp SG_Concentrate MAE: 1.66\n",
            "Solids Fraction_Concentrate MAE: 63.52\n",
            "Total Solids Flow_Tailings MAE: 26.89\n",
            "Total Liquid Flow_Tailings MAE: 75.92\n",
            "Pulp Volumetric Flow_Tailings MAE: 81.31\n",
            "Solids SG_Tailings MAE: 2.14\n",
            "Pulp SG_Tailings MAE: 2.97\n",
            "Solids Fraction_Tailings MAE: 42.76\n",
            "Cu_Tails MAE: 3.55\n",
            "Fe_Tails MAE: 12.33\n",
            "Pb_Tails MAE: 51.32\n",
            "Zn_Tails MAE: 7.02\n",
            "Cu_Concentrate MAE: 1.12\n",
            "Fe_Concentrate MAE: 3.06\n",
            "Pb_Concentrate MAE: 39.22\n",
            "Zn_Concentrate MAE: 5.12\n",
            "Average MAE: 56.24\n"
          ]
        }
      ],
      "source": [
        "import pandas as pd\n",
        "from sklearn.metrics import mean_absolute_error\n",
        "\n",
        "# Load the data from the files\n",
        "# Load the data from the files\n",
        "ground_truth_df = pd.read_excel('/content/Output_observation4.xlsx', engine='openpyxl')  # Replace with the actual path\n",
        "predicted_df = pd.read_excel('/content/output4.xlsx', engine='openpyxl')\n",
        "\n",
        "# Ensure both DataFrames have the same number of rows\n",
        "if ground_truth_df.shape[0] != predicted_df.shape[0]:\n",
        "    raise ValueError(\"Number of rows in ground truth and predicted DataFrames must be the same.\")\n",
        "\n",
        "# Columns for which you want to calculate accuracy\n",
        "selected_columns = ['Air Efficiency', 'Flotation Rate: Cell 4', 'Entrainment: Cell 4', 'Total Solids Flow_Concentrate', 'Total Liquid Flow_Concentrate', 'Pulp Volumetric Flow_Concentrate', 'Solids SG_Concentrate', 'Pulp SG_Concentrate', 'Solids Fraction_Concentrate', 'Total Solids Flow_Tailings', 'Total Liquid Flow_Tailings', 'Pulp Volumetric Flow_Tailings', 'Solids SG_Tailings', 'Pulp SG_Tailings', 'Solids Fraction_Tailings', 'Cu_Tails', 'Fe_Tails', 'Pb_Tails', 'Zn_Tails', 'Cu_Concentrate', 'Fe_Concentrate', 'Pb_Concentrate', 'Zn_Concentrate']\n",
        "\n",
        "# Extract ground truth and predicted values for the specified columns\n",
        "actual_values = ground_truth_df[selected_columns].values\n",
        "predicted_values = predicted_df[selected_columns].values\n",
        "\n",
        "# Calculate Mean Absolute Error (MAE) for each column\n",
        "mae_values = [mean_absolute_error(actual_values[:, i], predicted_values[:, i]) for i in range(len(selected_columns))]\n",
        "\n",
        "# Print individual MAE values and average MAE\n",
        "for col, mae in zip(selected_columns, mae_values):\n",
        "    print(f'{col} MAE: {mae:.2f}')\n",
        "\n",
        "average_mae = sum(mae_values) / len(mae_values)\n",
        "print(f'Average MAE: {average_mae:.2f}')"
      ]
    },
    {
      "cell_type": "markdown",
      "metadata": {
        "id": "QU-nv8pJs-oW"
      },
      "source": [
        "# L'accuracy du concentrate"
      ]
    },
    {
      "cell_type": "code",
      "execution_count": null,
      "metadata": {
        "colab": {
          "base_uri": "https://localhost:8080/"
        },
        "id": "-IGJ7lwqnW_M",
        "outputId": "45e9d937-1829-4a29-80e9-92f2a01c0f37"
      },
      "outputs": [
        {
          "name": "stdout",
          "output_type": "stream",
          "text": [
            "Total Solids Flow_Concentrate MAE: 29.65\n",
            "Total Liquid Flow_Concentrate MAE: 307.89\n",
            "Pulp Volumetric Flow_Concentrate MAE: 261.88\n",
            "Solids SG_Concentrate MAE: 1.60\n",
            "Pulp SG_Concentrate MAE: 1.66\n",
            "Solids Fraction_Concentrate MAE: 63.52\n",
            "Cu_Concentrate MAE: 1.12\n",
            "Fe_Concentrate MAE: 3.06\n",
            "Pb_Concentrate MAE: 39.22\n",
            "Zn_Concentrate MAE: 5.12\n",
            "Average MAE: 71.47\n"
          ]
        }
      ],
      "source": [
        "import pandas as pd\n",
        "from sklearn.metrics import mean_absolute_error\n",
        "\n",
        "# Load the data from the files\n",
        "# Load the data from the files\n",
        "ground_truth_df = pd.read_excel('/content/concentrate_observation4.xlsx', engine='openpyxl')  # Replace with the actual path\n",
        "predicted_df = pd.read_excel('/content/concentrate_predection4.xlsx', engine='openpyxl')\n",
        "\n",
        "# Ensure both DataFrames have the same number of rows\n",
        "if ground_truth_df.shape[0] != predicted_df.shape[0]:\n",
        "    raise ValueError(\"Number of rows in ground truth and predicted DataFrames must be the same.\")\n",
        "\n",
        "# Columns for which you want to calculate accuracy\n",
        "selected_columns = ['Total Solids Flow_Concentrate', 'Total Liquid Flow_Concentrate', 'Pulp Volumetric Flow_Concentrate', 'Solids SG_Concentrate', 'Pulp SG_Concentrate', 'Solids Fraction_Concentrate',  'Cu_Concentrate', 'Fe_Concentrate', 'Pb_Concentrate', 'Zn_Concentrate']\n",
        "\n",
        "# Extract ground truth and predicted values for the specified columns\n",
        "actual_values = ground_truth_df[selected_columns].values\n",
        "predicted_values = predicted_df[selected_columns].values\n",
        "\n",
        "# Calculate Mean Absolute Error (MAE) for each column\n",
        "mae_values = [mean_absolute_error(actual_values[:, i], predicted_values[:, i]) for i in range(len(selected_columns))]\n",
        "\n",
        "# Print individual MAE values and average MAE\n",
        "for col, mae in zip(selected_columns, mae_values):\n",
        "    print(f'{col} MAE: {mae:.2f}')\n",
        "\n",
        "average_mae = sum(mae_values) / len(mae_values)\n",
        "print(f'Average MAE: {average_mae:.2f}')"
      ]
    },
    {
      "cell_type": "markdown",
      "source": [
        "# Application de KF just sur cell4"
      ],
      "metadata": {
        "id": "kf4zNEZ3CF29"
      }
    },
    {
      "cell_type": "code",
      "execution_count": null,
      "metadata": {
        "colab": {
          "base_uri": "https://localhost:8080/",
          "height": 1000
        },
        "id": "TqvGzLF88ExL",
        "outputId": "3cb93f0a-e5f1-494b-c8c4-2e1b90df2e99"
      },
      "outputs": [
        {
          "name": "stdout",
          "output_type": "stream",
          "text": [
            "4/4 [==============================] - 0s 5ms/step\n",
            "MAE before Kalman filter:\n",
            "Air Efficiency: 271.7647\n",
            "Flotation Rate: Cell 4: 0.6651\n",
            "Entrainment: Cell 4: 0.1317\n",
            "Total Solids Flow_Concentrate: 29.6468\n",
            "Total Liquid Flow_Concentrate: 307.8909\n",
            "Pulp Volumetric Flow_Concentrate: 261.8765\n",
            "Solids SG_Concentrate: 1.6006\n",
            "Pulp SG_Concentrate: 1.6569\n",
            "Solids Fraction_Concentrate: 63.5180\n",
            "Cu_Concentrate: 22.5849\n",
            "Pb_Concentrate: 73.0638\n",
            "Fe_Concentrate: 62.8070\n",
            "Zn_Concentrate: 6.6976\n",
            "Total Solids Flow_Tailings: 1.5590\n",
            "Total Liquid Flow_Tailings: 14.7515\n",
            "Pulp Volumetric Flow_Tailings: 4.8757\n",
            "Solids SG_Tailings: 12.5308\n",
            "Pulp SG_Tailings: 3.3780\n",
            "Solids Fraction_Tailings: 42.4624\n",
            "Cu_Tails: 3.9731\n",
            "Pb_Tails: 43.1980\n",
            "Fe_Tails: 36.0524\n",
            "Zn_Tails: 3.3661\n",
            "\n",
            "MAE after Kalman filter:\n",
            "Air Efficiency Kalman MAE: 271.4758\n",
            "Flotation Rate: Cell 4 Kalman MAE: 0.6641\n",
            "Entrainment: Cell 4 Kalman MAE: 0.1307\n",
            "Total Solids Flow_Concentrate Kalman MAE: 29.2462\n",
            "Total Liquid Flow_Concentrate Kalman MAE: 307.5576\n",
            "Pulp Volumetric Flow_Concentrate Kalman MAE: 261.5310\n",
            "Solids SG_Concentrate Kalman MAE: 1.5984\n",
            "Pulp SG_Concentrate Kalman MAE: 1.6575\n",
            "Solids Fraction_Concentrate Kalman MAE: 63.5223\n",
            "Cu_Concentrate Kalman MAE: 22.5509\n",
            "Pb_Concentrate Kalman MAE: 72.9855\n",
            "Fe_Concentrate Kalman MAE: 62.6876\n",
            "Zn_Concentrate Kalman MAE: 6.6995\n",
            "Total Solids Flow_Tailings Kalman MAE: 1.5589\n",
            "Total Liquid Flow_Tailings Kalman MAE: 14.7484\n",
            "Pulp Volumetric Flow_Tailings Kalman MAE: 4.8792\n",
            "Solids SG_Tailings Kalman MAE: 12.5098\n",
            "Pulp SG_Tailings Kalman MAE: 3.2708\n",
            "Solids Fraction_Tailings Kalman MAE: 42.3931\n",
            "Cu_Tails Kalman MAE: 3.9754\n",
            "Pb_Tails Kalman MAE: 43.2294\n",
            "Fe_Tails Kalman MAE: 36.0437\n",
            "Zn_Tails Kalman MAE: 3.3921\n"
          ]
        },
        {
          "data": {
            "image/png": "[encoded data removed]",
            "text/plain": [
              "<Figure size 1500x600 with 1 Axes>"
            ]
          },
          "metadata": {},
          "output_type": "display_data"
        }
      ],
      "source": [
        "import numpy as np\n",
        "import pandas as pd\n",
        "import matplotlib.pyplot as plt\n",
        "from tensorflow.keras.models import load_model\n",
        "from joblib import load\n",
        "from pykalman import KalmanFilter\n",
        "from sklearn.metrics import mean_absolute_error\n",
        "from tensorflow.keras import backend as K\n",
        "# Custom R2 metric function\n",
        "def r2_keras(output_index):\n",
        "    def r2(y_true, y_pred):\n",
        "        SS_res =  K.sum(K.square(y_true[:,output_index] - y_pred[:,output_index]))\n",
        "        SS_tot = K.sum(K.square(y_true[:,output_index] - K.mean(y_true[:,output_index])))\n",
        "        r2 = 1 - SS_res/(SS_tot + K.epsilon())\n",
        "        return r2\n",
        "    r2._name_ = f\"r2_{output_index}\"\n",
        "    return r2\n",
        "# Load the machine learning model\n",
        "model = load_model('/content/model7_23.h5', custom_objects={f'r2_{i}': r2_keras(i) for i in range(23)})\n",
        "\n",
        "# Load the scalers\n",
        "scalerX = load('/content/scalerX_24.joblib')\n",
        "scalerY = load('/content/scalerY_23.joblib')\n",
        "\n",
        "# Load the CSV data\n",
        "observation_data =pd.read_excel('/content/Output_observation4 (1).xlsx', engine='openpyxl')\n",
        "\n",
        "\n",
        "\n",
        "# Load input features\n",
        "data =pd.read_excel('/content/input_cell4.xlsx', engine='openpyxl')\n",
        "columns_to_replace_commas = [ 'Net Volume', 'Pulp Area', 'Froth surface area', 'Froth thickness', 'Air Flow rate', 'R_inf Ccp', 'R_inf Gn', 'R_inf Po', 'R_inf Sp', 'k_max Ccp', 'k_max Gn', 'k_maxPo', 'k_max Sp', 'Entrainement Savassi parameters', 'Total Solids Flow_Feed', 'Total Liquid Flow_Feed', 'Pulp Volumetric Flow_Feed', 'Solids SG_Feed', 'Pulp SG_Feed', 'Solids Fraction_Feed', 'Cu_Feed', 'Fe_Feed', 'Pb_Feed', 'Zn_Feed' ]\n",
        "data[columns_to_replace_commas] = data[columns_to_replace_commas].replace({',': '.'}, regex=True)\n",
        "\n",
        "# Select the desired columns\n",
        "selected_columns = [ 'Net Volume', 'Pulp Area', 'Froth surface area', 'Froth thickness', 'Air Flow rate', 'R_inf Ccp', 'R_inf Gn', 'R_inf Po', 'R_inf Sp', 'k_max Ccp', 'k_max Gn', 'k_maxPo', 'k_max Sp', 'Entrainement Savassi parameters', 'Total Solids Flow_Feed', 'Total Liquid Flow_Feed', 'Pulp Volumetric Flow_Feed', 'Solids SG_Feed', 'Pulp SG_Feed', 'Solids Fraction_Feed', 'Cu_Feed', 'Fe_Feed', 'Pb_Feed', 'Zn_Feed' ]  # Add all your columns\n",
        "input_data = data[selected_columns]\n",
        "\n",
        "# Scale input features\n",
        "scaled_input = scalerX.transform(input_data)\n",
        "\n",
        "# Make predictions with the model\n",
        "raw_predictions = model.predict(scaled_input)\n",
        "\n",
        "# Inverse scale the predictions\n",
        "final_predictions = scalerY.inverse_transform(raw_predictions)\n",
        "\n",
        "# Calculate MAE before Kalman filter\n",
        "mae_scores_before_kalman = [mean_absolute_error(observation_data.iloc[:, i], final_predictions[:, i]) for i in range(observation_data.shape[1])]\n",
        "\n",
        "# Initialize Kalman Filter\n",
        "# Adjust these parameters based on your data and model\n",
        "num_state_variables = final_predictions.shape[1]  # Number of state variables\n",
        "num_observed_variables = final_predictions.shape[1]  # Number of observed variables\n",
        "kf = KalmanFilter(\n",
        "    initial_state_mean=np.zeros(num_state_variables),\n",
        "    initial_state_covariance=np.eye(num_state_variables),\n",
        "    transition_matrices=np.eye(num_state_variables),\n",
        "    observation_matrices=np.eye(num_observed_variables),\n",
        "    transition_covariance=np.eye(num_state_variables) * 0.1,\n",
        "    observation_covariance=np.eye(num_observed_variables) * 0.1\n",
        ")\n",
        "\n",
        "# Apply Kalman filter to the model's predictions\n",
        "kf = kf.em(final_predictions, n_iter=5)  # EM algorithm to estimate parameters, adjust 'n_iter' as needed\n",
        "kf_filtered, _ = kf.smooth(final_predictions)\n",
        "\n",
        "# Calculate MAE for each column after applying Kalman filter\n",
        "kalman_mae_scores = [mean_absolute_error(observation_data.iloc[:, i], kf_filtered[:, i]) for i in range(observation_data.shape[1])]\n",
        "\n",
        "# Display MAE values before Kalman filter\n",
        "print(\"MAE before Kalman filter:\")\n",
        "for col, mae in zip(observation_data.columns, mae_scores_before_kalman):\n",
        "    print(f'{col}: {mae:.4f}')\n",
        "\n",
        "# Display MAE values after Kalman filter\n",
        "print(\"\\nMAE after Kalman filter:\")\n",
        "for col, mae in zip(observation_data.columns, kalman_mae_scores):\n",
        "    print(f'{col} Kalman MAE: {mae:.4f}')\n",
        "\n",
        "# Plotting the MAE values\n",
        "plt.figure(figsize=(15, 6))\n",
        "plt.bar(observation_data.columns, mae_scores_before_kalman, color='blue', label='MAE Before Kalman')\n",
        "plt.bar(observation_data.columns, kalman_mae_scores, color='green', alpha=0.5, label='Kalman MAE After')\n",
        "plt.xlabel('Features')\n",
        "plt.ylabel('MAE')\n",
        "plt.title('MAE Values Before and After Applying Kalman Filter')\n",
        "plt.xticks(rotation=45)\n",
        "plt.legend()\n",
        "plt.tight_layout()\n",
        "plt.show()\n"
      ]
    },
    {
      "cell_type": "code",
      "execution_count": null,
      "metadata": {
        "colab": {
          "base_uri": "https://localhost:8080/"
        },
        "id": "15kXIzgV8HEA",
        "outputId": "895f407d-a45b-49fc-d303-7af9a0b86398"
      },
      "outputs": [
        {
          "output_type": "stream",
          "name": "stdout",
          "text": [
            "Collecting pykalman\n",
            "  Downloading pykalman-0.9.5.tar.gz (228 kB)\n",
            "\u001b[2K     \u001b[90m━━━━━━━━━━━━━━━━━━━━━━━━━━━━━━━━━━━━━━━━\u001b[0m \u001b[32m228.9/228.9 kB\u001b[0m \u001b[31m2.0 MB/s\u001b[0m eta \u001b[36m0:00:00\u001b[0m\n",
            "\u001b[?25h  Preparing metadata (setup.py) ... \u001b[?25l\u001b[?25hdone\n",
            "Building wheels for collected packages: pykalman\n",
            "  Building wheel for pykalman (setup.py) ... \u001b[?25l\u001b[?25hdone\n",
            "  Created wheel for pykalman: filename=pykalman-0.9.5-py3-none-any.whl size=48442 sha256=e216adfd305070551bc7cff69b633b279219df66c43330faaa50a65e58400e94\n",
            "  Stored in directory: /root/.cache/pip/wheels/76/33/ef/5f332226e13a5089c6dd4b01cc2bcb59491d18f955fa2d3807\n",
            "Successfully built pykalman\n",
            "Installing collected packages: pykalman\n",
            "Successfully installed pykalman-0.9.5\n"
          ]
        }
      ],
      "source": [
        "!pip install pykalman"
      ]
    },
    {
      "cell_type": "code",
      "execution_count": null,
      "metadata": {
        "colab": {
          "base_uri": "https://localhost:8080/"
        },
        "id": "U9UszYji90nJ",
        "outputId": "40ecd9fb-2c46-4130-e51f-2b89578c1b86"
      },
      "outputs": [
        {
          "name": "stdout",
          "output_type": "stream",
          "text": [
            "Shape of observation_data: (100, 23)\n"
          ]
        }
      ],
      "source": [
        "print(\"Shape of observation_data:\", observation_data.shape)\n"
      ]
    },
    {
      "cell_type": "code",
      "execution_count": null,
      "metadata": {
        "colab": {
          "base_uri": "https://localhost:8080/"
        },
        "id": "cIAEzPZZ-DWy",
        "outputId": "5525bdc8-e025-431a-b10e-215bc5f5ba5d"
      },
      "outputs": [
        {
          "name": "stdout",
          "output_type": "stream",
          "text": [
            "Shape of final_predictions: (100, 23)\n"
          ]
        }
      ],
      "source": [
        "print(\"Shape of final_predictions:\", final_predictions.shape)\n"
      ]
    },
    {
      "cell_type": "code",
      "execution_count": null,
      "metadata": {
        "colab": {
          "base_uri": "https://localhost:8080/"
        },
        "id": "uOV8B7m_BJ7p",
        "outputId": "160eac7c-28a2-42f2-d9e8-1f51a184634d"
      },
      "outputs": [
        {
          "name": "stdout",
          "output_type": "stream",
          "text": [
            "Index(['Air Efficiency', 'Flotation Rate: Cell 4', 'Entrainment: Cell 4',\n",
            "       'Total Solids Flow_Concentrate', 'Total Liquid Flow_Concentrate',\n",
            "       'Pulp Volumetric Flow_Concentrate', 'Solids SG_Concentrate',\n",
            "       'Pulp SG_Concentrate', 'Solids Fraction_Concentrate', 'Cu_Concentrate',\n",
            "       'Pb_Concentrate', 'Fe_Concentrate', 'Zn_Concentrate',\n",
            "       'Total Solids Flow_Tailings', 'Total Liquid Flow_Tailings',\n",
            "       'Pulp Volumetric Flow_Tailings', 'Solids SG_Tailings',\n",
            "       'Pulp SG_Tailings', 'Solids Fraction_Tailings', 'Cu_Tails', 'Pb_Tails',\n",
            "       'Fe_Tails', 'Zn_Tails'],\n",
            "      dtype='object')\n"
          ]
        }
      ],
      "source": [
        "print(observation_data.columns)\n"
      ]
    },
    {
      "cell_type": "markdown",
      "metadata": {
        "id": "-HxbDq0yt7wc"
      },
      "source": [
        "# KF CELL1"
      ]
    },
    {
      "cell_type": "code",
      "execution_count": null,
      "metadata": {
        "colab": {
          "base_uri": "https://localhost:8080/"
        },
        "id": "gm7yj8apB3n5",
        "outputId": "6d89a6cd-af3d-440b-c3e9-862524443c30"
      },
      "outputs": [
        {
          "output_type": "stream",
          "name": "stdout",
          "text": [
            "4/4 [==============================] - 0s 5ms/step\n",
            "MAE before Kalman filter:\n",
            "Air Efficiency: 19.0346\n",
            " Flotation Rate: 0.0468\n",
            "Entrainment: Cell 1: 0.0041\n",
            "Total Solids Flow_Concentrate: 20.5050\n",
            "Total Liquid Flow_Concentrate: 153.4171\n",
            "Pulp Volumetric Flow_Concentrate: 149.0363\n",
            "Solids SG_Concentrate: 0.6820\n",
            "Pulp SG_Concentrate: 1.5128\n",
            "Solids Fraction_Concentrate: 55.8293\n",
            "Cu_Concentrate: 111.1798\n",
            "Pb_Concentrate: 23.0305\n",
            "Fe_Concentrate: 34.9684\n",
            "Zn_Concentrate: 6.6562\n",
            "Total Solids Flow_Tailings: 92.5082\n",
            "Total Liquid Flow_Tailings: 96.9317\n",
            "Pulp Volumetric Flow_Tailings: 189.9795\n",
            "Solids SG_Tailings: 14.3311\n",
            "Pulp SG_Tailings: 2.6083\n",
            "Solids Fraction_Tailings: 1.1135\n",
            "Cu_Tails: 0.0908\n",
            "Pb_Tails: 4.5703\n",
            "Fe_Tails: 4.5613\n",
            "Zn_Tails: 0.1347\n",
            "\n",
            "MAE after Kalman filter:\n",
            "Air Efficiency Kalman MAE: 21.9416\n",
            " Flotation Rate Kalman MAE: 0.0463\n",
            "Entrainment: Cell 1 Kalman MAE: 0.0031\n",
            "Total Solids Flow_Concentrate Kalman MAE: 19.1846\n",
            "Total Liquid Flow_Concentrate Kalman MAE: 153.0856\n",
            "Pulp Volumetric Flow_Concentrate Kalman MAE: 148.7174\n",
            "Solids SG_Concentrate Kalman MAE: 0.6815\n",
            "Pulp SG_Concentrate Kalman MAE: 1.5129\n",
            "Solids Fraction_Concentrate Kalman MAE: 55.8297\n",
            "Cu_Concentrate Kalman MAE: 111.0338\n",
            "Pb_Concentrate Kalman MAE: 14.8801\n",
            "Fe_Concentrate Kalman MAE: 32.3020\n",
            "Zn_Concentrate Kalman MAE: 6.6571\n",
            "Total Solids Flow_Tailings Kalman MAE: 92.5149\n",
            "Total Liquid Flow_Tailings Kalman MAE: 96.5332\n",
            "Pulp Volumetric Flow_Tailings Kalman MAE: 189.9718\n",
            "Solids SG_Tailings Kalman MAE: 14.2943\n",
            "Pulp SG_Tailings Kalman MAE: 2.6076\n",
            "Solids Fraction_Tailings Kalman MAE: 0.6610\n",
            "Cu_Tails Kalman MAE: 0.5704\n",
            "Pb_Tails Kalman MAE: 4.2309\n",
            "Fe_Tails Kalman MAE: 4.1429\n",
            "Zn_Tails Kalman MAE: 0.6559\n"
          ]
        }
      ],
      "source": [
        "import numpy as np\n",
        "import pandas as pd\n",
        "import matplotlib.pyplot as plt\n",
        "from tensorflow.keras.models import load_model\n",
        "from joblib import load\n",
        "from pykalman import KalmanFilter\n",
        "from sklearn.metrics import mean_absolute_error\n",
        "from tensorflow.keras import backend as K\n",
        "# Custom R2 metric function\n",
        "def r2_keras(output_index):\n",
        "    def r2(y_true, y_pred):\n",
        "        SS_res =  K.sum(K.square(y_true[:,output_index] - y_pred[:,output_index]))\n",
        "        SS_tot = K.sum(K.square(y_true[:,output_index] - K.mean(y_true[:,output_index])))\n",
        "        r2 = 1 - SS_res/(SS_tot + K.epsilon())\n",
        "        return r2\n",
        "    r2._name_ = f\"r2_{output_index}\"\n",
        "    return r2\n",
        "# Load the machine learning model\n",
        "model = load_model('/content/model7_23.h5', custom_objects={f'r2_{i}': r2_keras(i) for i in range(23)})\n",
        "\n",
        "# Load the scalers\n",
        "scalerX = load('/content/scalerX_24.joblib')\n",
        "scalerY = load('/content/scalerY_23.joblib')\n",
        "\n",
        "# Load the CSV data\n",
        "observation_data =pd.read_excel('/content/output_data (1).xlsx', engine='openpyxl')\n",
        "\n",
        "\n",
        "\n",
        "# Load input features\n",
        "data =pd.read_excel('/content/input (1).xlsx', engine='openpyxl')\n",
        "columns_to_replace_commas = [ 'Net Volume', 'Pulp Area', 'Froth surface area', 'Froth thickness', 'Air Flow rate', 'R_inf Ccp', 'R_inf Gn', 'R_inf Po', 'R_inf Sp', 'k_max Ccp', 'k_max Gn', 'k_maxPo', 'k_max Sp', 'Entrainement Savassi parameters', 'Total Solids Flow_Feed', 'Total Liquid Flow_Feed', 'Pulp Volumetric Flow_Feed', 'Solids SG_Feed', 'Pulp SG_Feed', 'Solids Fraction_Feed', 'Cu_Feed', 'Fe_Feed', 'Pb_Feed', 'Zn_Feed' ]\n",
        "data[columns_to_replace_commas] = data[columns_to_replace_commas].replace({',': '.'}, regex=True)\n",
        "\n",
        "# Select the desired columns\n",
        "selected_columns = [ 'Net Volume', 'Pulp Area', 'Froth surface area', 'Froth thickness', 'Air Flow rate', 'R_inf Ccp', 'R_inf Gn', 'R_inf Po', 'R_inf Sp', 'k_max Ccp', 'k_max Gn', 'k_maxPo', 'k_max Sp', 'Entrainement Savassi parameters', 'Total Solids Flow_Feed', 'Total Liquid Flow_Feed', 'Pulp Volumetric Flow_Feed', 'Solids SG_Feed', 'Pulp SG_Feed', 'Solids Fraction_Feed', 'Cu_Feed', 'Fe_Feed', 'Pb_Feed', 'Zn_Feed' ]  # Add all your columns\n",
        "input_data = data[selected_columns]\n",
        "\n",
        "# Scale input features\n",
        "scaled_input = scalerX.transform(input_data)\n",
        "\n",
        "# Make predictions with the model\n",
        "raw_predictions = model.predict(scaled_input)\n",
        "\n",
        "# Inverse scale the predictions\n",
        "final_predictions = scalerY.inverse_transform(raw_predictions)\n",
        "\n",
        "# Calculate MAE before Kalman filter\n",
        "mae_scores_before_kalman = [mean_absolute_error(observation_data.iloc[:, i], final_predictions[:, i]) for i in range(observation_data.shape[1])]\n",
        "\n",
        "# Initialize Kalman Filter\n",
        "# Adjust these parameters based on your data and model\n",
        "num_state_variables = final_predictions.shape[1]  # Number of state variables\n",
        "num_observed_variables = final_predictions.shape[1]  # Number of observed variables\n",
        "kf = KalmanFilter(\n",
        "    initial_state_mean=np.zeros(num_state_variables),\n",
        "    initial_state_covariance=np.eye(num_state_variables),\n",
        "    transition_matrices=np.eye(num_state_variables),\n",
        "    observation_matrices=np.eye(num_observed_variables),\n",
        "    transition_covariance=np.eye(num_state_variables) * 0.1,\n",
        "    observation_covariance=np.eye(num_observed_variables) * 0.1\n",
        ")\n",
        "\n",
        "# Apply Kalman filter to the model's predictions\n",
        "kf = kf.em(final_predictions, n_iter=5)  # EM algorithm to estimate parameters, adjust 'n_iter' as needed\n",
        "kf_filtered, _ = kf.smooth(final_predictions)\n",
        "\n",
        "# Calculate MAE for each column after applying Kalman filter\n",
        "kalman_mae_scores = [mean_absolute_error(observation_data.iloc[:, i], kf_filtered[:, i]) for i in range(observation_data.shape[1])]\n",
        "\n",
        "# Display MAE values before Kalman filter\n",
        "print(\"MAE before Kalman filter:\")\n",
        "for col, mae in zip(observation_data.columns, mae_scores_before_kalman):\n",
        "    print(f'{col}: {mae:.4f}')\n",
        "\n",
        "# Display MAE values after Kalman filter\n",
        "print(\"\\nMAE after Kalman filter:\")\n",
        "for col, mae in zip(observation_data.columns, kalman_mae_scores):\n",
        "    print(f'{col} Kalman MAE: {mae:.4f}')\n",
        "\n"
      ]
    },
    {
      "cell_type": "code",
      "source": [
        "\n",
        "import numpy as np\n",
        "import pandas as pd\n",
        "import matplotlib.pyplot as plt\n",
        "from tensorflow.keras.models import load_model\n",
        "from joblib import load\n",
        "from pykalman import KalmanFilter\n",
        "from sklearn.metrics import mean_absolute_error\n",
        "from tensorflow.keras import backend as K\n",
        "# Custom R2 metric function\n",
        "def r2_keras(output_index):\n",
        "    def r2(y_true, y_pred):\n",
        "        SS_res =  K.sum(K.square(y_true[:,output_index] - y_pred[:,output_index]))\n",
        "        SS_tot = K.sum(K.square(y_true[:,output_index] - K.mean(y_true[:,output_index])))\n",
        "        r2 = 1 - SS_res/(SS_tot + K.epsilon())\n",
        "        return r2\n",
        "    r2._name_ = f\"r2_{output_index}\"\n",
        "    return r2\n",
        "# Load the machine learning model\n",
        "model = load_model('/content/model7_23.h5', custom_objects={f'r2_{i}': r2_keras(i) for i in range(23)})\n",
        "\n",
        "# Load the scalers\n",
        "scalerX = load('/content/scalerX_24.joblib')\n",
        "scalerY = load('/content/scalerY_23.joblib')\n",
        "\n",
        "# Load the CSV data\n",
        "observation_data =pd.read_excel('/content/output_data (1).xlsx', engine='openpyxl')\n",
        "\n",
        "\n",
        "\n",
        "# Load input features\n",
        "data =pd.read_csv('/content/input - Feuille 1.csv')\n",
        "columns_to_replace_commas = [ 'Net Volume', 'Pulp Area', 'Froth surface area', 'Froth thickness', 'Air Flow rate', 'R_inf Ccp', 'R_inf Gn', 'R_inf Po', 'R_inf Sp', 'k_max Ccp', 'k_max Gn', 'k_maxPo', 'k_max Sp', 'Entrainement Savassi parameters', 'Total Solids Flow_Feed', 'Total Liquid Flow_Feed', 'Pulp Volumetric Flow_Feed', 'Solids SG_Feed', 'Pulp SG_Feed', 'Solids Fraction_Feed', 'Cu_Feed', 'Fe_Feed', 'Pb_Feed', 'Zn_Feed' ]\n",
        "data[columns_to_replace_commas] = data[columns_to_replace_commas].replace({',': '.'}, regex=True)\n",
        "\n",
        "# Select the desired columns\n",
        "selected_columns = [ 'Net Volume', 'Pulp Area', 'Froth surface area', 'Froth thickness', 'Air Flow rate', 'R_inf Ccp', 'R_inf Gn', 'R_inf Po', 'R_inf Sp', 'k_max Ccp', 'k_max Gn', 'k_maxPo', 'k_max Sp', 'Entrainement Savassi parameters', 'Total Solids Flow_Feed', 'Total Liquid Flow_Feed', 'Pulp Volumetric Flow_Feed', 'Solids SG_Feed', 'Pulp SG_Feed', 'Solids Fraction_Feed', 'Cu_Feed', 'Fe_Feed', 'Pb_Feed', 'Zn_Feed' ]  # Add all your columns\n",
        "input_data = data[selected_columns]\n",
        "\n",
        "# Scale input features\n",
        "scaled_input = scalerX.transform(input_data)\n",
        "\n",
        "# Make predictions with the model\n",
        "raw_predictions = model.predict(scaled_input)\n",
        "\n",
        "# Inverse scale the predictions\n",
        "final_predictions = scalerY.inverse_transform(raw_predictions)\n",
        "\n",
        "# Calculate MAE before Kalman filter\n",
        "mae_scores_before_kalman = [mean_absolute_error(observation_data.iloc[:, i], final_predictions[:, i]) for i in range(observation_data.shape[1])]\n",
        "\n",
        "# Initialize Kalman Filter\n",
        "# Adjust these parameters based on your data and model\n",
        "num_state_variables = final_predictions.shape[1]  # Number of state variables\n",
        "num_observed_variables = final_predictions.shape[1]  # Number of observed variables\n",
        "kf = KalmanFilter(\n",
        "    initial_state_mean=np.zeros(num_state_variables),\n",
        "    initial_state_covariance=np.eye(num_state_variables),\n",
        "    transition_matrices=np.eye(num_state_variables),\n",
        "    observation_matrices=np.eye(num_observed_variables),\n",
        "    transition_covariance=np.eye(num_state_variables) * 0.1,\n",
        "    observation_covariance=np.eye(num_observed_variables) * 0.1\n",
        ")\n",
        "\n",
        "# Apply Kalman filter to the model's predictions\n",
        "kf = kf.em(final_predictions, n_iter=5)  # EM algorithm to estimate parameters, adjust 'n_iter' as needed\n",
        "kf_filtered, _ = kf.smooth(final_predictions)\n",
        "\n",
        "# Calculate MAE for each column after applying Kalman filter\n",
        "kalman_mae_scores = [mean_absolute_error(observation_data.iloc[:, i], kf_filtered[:, i]) for i in range(observation_data.shape[1])]\n",
        "# Définissez les colonnes d'intérêt\n",
        "columns_of_interest = ['Total Solids Flow_Concentrate', 'Total Liquid Flow_Concentrate', 'Cu_Tails', 'Fe_Tails', 'Pb_Tails', 'Zn_Tails', 'Cu_Concentrate', 'Fe_Concentrate', 'Pb_Concentrate', 'Zn_Concentrate']\n",
        "\n",
        "# Affichez les scores MAE avant le filtre de Kalman pour les colonnes d'intérêt\n",
        "print(\"MAE avant le filtre de Kalman pour les colonnes sélectionnées:\")\n",
        "for col in columns_of_interest:\n",
        "    index = observation_data.columns.get_loc(col)\n",
        "    mae = mae_scores_before_kalman[index]\n",
        "    print(f'{col}: {mae:.4f}')\n",
        "\n",
        "# Affichez les scores MAE après le filtre de Kalman pour les colonnes d'intérêt\n",
        "print(\"\\nMAE après le filtre de Kalman pour les colonnes sélectionnées:\")\n",
        "for col in columns_of_interest:\n",
        "    index = observation_data.columns.get_loc(col)\n",
        "    mae = kalman_mae_scores[index]\n",
        "    print(f'{col} Kalman MAE: {mae:.4f}')\n"
      ],
      "metadata": {
        "colab": {
          "base_uri": "https://localhost:8080/"
        },
        "id": "VGggs8Nb4TL7",
        "outputId": "3ead0c6c-22f0-4b1e-b2bc-8ffa5448bbe1"
      },
      "execution_count": null,
      "outputs": [
        {
          "output_type": "stream",
          "name": "stdout",
          "text": [
            "4/4 [==============================] - 0s 5ms/step\n",
            "MAE avant le filtre de Kalman pour les colonnes sélectionnées:\n",
            "Total Solids Flow_Concentrate: 20.5798\n",
            "Total Liquid Flow_Concentrate: 153.3342\n",
            "Cu_Tails: 0.0896\n",
            "Fe_Tails: 4.5685\n",
            "Pb_Tails: 4.5696\n",
            "Zn_Tails: 0.1357\n",
            "Cu_Concentrate: 111.2180\n",
            "Fe_Concentrate: 35.2680\n",
            "Pb_Concentrate: 23.2697\n",
            "Zn_Concentrate: 6.6563\n",
            "\n",
            "MAE après le filtre de Kalman pour les colonnes sélectionnées:\n",
            "Total Solids Flow_Concentrate Kalman MAE: 19.2428\n",
            "Total Liquid Flow_Concentrate Kalman MAE: 152.9986\n",
            "Cu_Tails Kalman MAE: 0.5705\n",
            "Fe_Tails Kalman MAE: 4.1505\n",
            "Pb_Tails Kalman MAE: 4.2294\n",
            "Zn_Tails Kalman MAE: 0.6562\n",
            "Cu_Concentrate Kalman MAE: 111.0717\n",
            "Fe_Concentrate Kalman MAE: 32.5777\n",
            "Pb_Concentrate Kalman MAE: 15.1246\n",
            "Zn_Concentrate Kalman MAE: 6.6572\n"
          ]
        }
      ]
    },
    {
      "cell_type": "markdown",
      "source": [
        "# R2_"
      ],
      "metadata": {
        "id": "5SDhcrj8BHLw"
      }
    },
    {
      "cell_type": "code",
      "source": [
        "from sklearn.metrics import r2_score\n",
        "import numpy as np\n",
        "import pandas as pd\n",
        "import matplotlib.pyplot as plt\n",
        "from tensorflow.keras.models import load_model\n",
        "from joblib import load\n",
        "from pykalman import KalmanFilter\n",
        "from sklearn.metrics import mean_absolute_error\n",
        "from tensorflow.keras import backend as K\n",
        "# Custom R2 metric function\n",
        "def r2_keras(output_index):\n",
        "    def r2(y_true, y_pred):\n",
        "        SS_res =  K.sum(K.square(y_true[:,output_index] - y_pred[:,output_index]))\n",
        "        SS_tot = K.sum(K.square(y_true[:,output_index] - K.mean(y_true[:,output_index])))\n",
        "        r2 = 1 - SS_res/(SS_tot + K.epsilon())\n",
        "        return r2\n",
        "    r2._name_ = f\"r2_{output_index}\"\n",
        "    return r2\n",
        "# Load the machine learning model\n",
        "model = load_model('/content/model7_23.h5', custom_objects={f'r2_{i}': r2_keras(i) for i in range(23)})\n",
        "\n",
        "# Load the scalers\n",
        "scalerX = load('/content/scalerX_24.joblib')\n",
        "scalerY = load('/content/scalerY_23.joblib')\n",
        "\n",
        "# Load the CSV data\n",
        "observation_data =pd.read_excel('/content/output_data (1).xlsx', engine='openpyxl')\n",
        "\n",
        "\n",
        "\n",
        "# Load input features\n",
        "data =pd.read_excel('/content/input (1).xlsx', engine='openpyxl')\n",
        "columns_to_replace_commas = [ 'Net Volume', 'Pulp Area', 'Froth surface area', 'Froth thickness', 'Air Flow rate', 'R_inf Ccp', 'R_inf Gn', 'R_inf Po', 'R_inf Sp', 'k_max Ccp', 'k_max Gn', 'k_maxPo', 'k_max Sp', 'Entrainement Savassi parameters', 'Total Solids Flow_Feed', 'Total Liquid Flow_Feed', 'Pulp Volumetric Flow_Feed', 'Solids SG_Feed', 'Pulp SG_Feed', 'Solids Fraction_Feed', 'Cu_Feed', 'Fe_Feed', 'Pb_Feed', 'Zn_Feed' ]\n",
        "data[columns_to_replace_commas] = data[columns_to_replace_commas].replace({',': '.'}, regex=True)\n",
        "\n",
        "# Select the desired columns\n",
        "selected_columns = [ 'Net Volume', 'Pulp Area', 'Froth surface area', 'Froth thickness', 'Air Flow rate', 'R_inf Ccp', 'R_inf Gn', 'R_inf Po', 'R_inf Sp', 'k_max Ccp', 'k_max Gn', 'k_maxPo', 'k_max Sp', 'Entrainement Savassi parameters', 'Total Solids Flow_Feed', 'Total Liquid Flow_Feed', 'Pulp Volumetric Flow_Feed', 'Solids SG_Feed', 'Pulp SG_Feed', 'Solids Fraction_Feed', 'Cu_Feed', 'Fe_Feed', 'Pb_Feed', 'Zn_Feed' ]  # Add all your columns\n",
        "input_data = data[selected_columns]\n",
        "\n",
        "# Scale input features\n",
        "scaled_input = scalerX.transform(input_data)\n",
        "\n",
        "# Make predictions with the model\n",
        "raw_predictions = model.predict(scaled_input)\n",
        "\n",
        "# Inverse scale the predictions\n",
        "final_predictions = scalerY.inverse_transform(raw_predictions)\n",
        "\n",
        "# Calculate MAE before Kalman filter\n",
        "mae_scores_before_kalman = [mean_absolute_error(observation_data.iloc[:, i], final_predictions[:, i]) for i in range(observation_data.shape[1])]\n",
        "\n",
        "# Initialize Kalman Filter\n",
        "# Adjust these parameters based on your data and model\n",
        "num_state_variables = final_predictions.shape[1]  # Number of state variables\n",
        "num_observed_variables = final_predictions.shape[1]  # Number of observed variables\n",
        "kf = KalmanFilter(\n",
        "    initial_state_mean=np.zeros(num_state_variables),\n",
        "    initial_state_covariance=np.eye(num_state_variables),\n",
        "    transition_matrices=np.eye(num_state_variables),\n",
        "    observation_matrices=np.eye(num_observed_variables),\n",
        "    transition_covariance=np.eye(num_state_variables) * 0.1,\n",
        "    observation_covariance=np.eye(num_observed_variables) * 0.1\n",
        ")\n",
        "\n",
        "# Apply Kalman filter to the model's predictions\n",
        "kf = kf.em(final_predictions, n_iter=5)  # EM algorithm to estimate parameters, adjust 'n_iter' as needed\n",
        "kf_filtered, _ = kf.smooth(final_predictions)\n",
        "\n",
        "# Définissez les colonnes d'intérêt\n",
        "columns_of_interest = ['Total Solids Flow_Concentrate', 'Total Liquid Flow_Concentrate', 'Cu_Tails', 'Fe_Tails', 'Pb_Tails', 'Zn_Tails', 'Cu_Concentrate', 'Fe_Concentrate', 'Pb_Concentrate', 'Zn_Concentrate']\n",
        "\n",
        "# Calculate R2 before Kalman filter\n",
        "r2_scores_before_kalman = {col: r2_score(observation_data[col], final_predictions[:, observation_data.columns.get_loc(col)]) for col in columns_of_interest}\n",
        "\n",
        "# Calculate R2 after Kalman filter\n",
        "r2_scores_after_kalman = {col: r2_score(observation_data[col], kf_filtered[:, observation_data.columns.get_loc(col)]) for col in columns_of_interest}\n",
        "\n",
        "# Display R2 scores before Kalman filter for selected columns\n",
        "print(\"R2 before Kalman filter for selected columns:\")\n",
        "for col, r2_value in r2_scores_before_kalman.items():\n",
        "    print(f'{col}: {r2_value:.4f}')\n",
        "\n",
        "# Display R2 scores after Kalman filter for selected columns\n",
        "print(\"\\nR2 after Kalman filter for selected columns:\")\n",
        "for col, r2_value in r2_scores_after_kalman.items():\n",
        "    print(f'{col} Kalman R2: {r2_value:.4f}')"
      ],
      "metadata": {
        "colab": {
          "base_uri": "https://localhost:8080/"
        },
        "id": "79x5m1GbAMVo",
        "outputId": "bfb78ea4-e26c-4c9d-a3c9-5885d10f0e3a"
      },
      "execution_count": null,
      "outputs": [
        {
          "output_type": "stream",
          "name": "stdout",
          "text": [
            "4/4 [==============================] - 0s 4ms/step\n",
            "R2 before Kalman filter for selected columns:\n",
            "Total Solids Flow_Concentrate: -7.2563\n",
            "Total Liquid Flow_Concentrate: -33.7236\n",
            "Cu_Tails: 0.9731\n",
            "Fe_Tails: -7.0235\n",
            "Pb_Tails: -4.3225\n",
            "Zn_Tails: 0.9647\n",
            "Cu_Concentrate: -30412.0073\n",
            "Fe_Concentrate: -405.5597\n",
            "Pb_Concentrate: -3285.8236\n",
            "Zn_Concentrate: -32.7592\n",
            "\n",
            "R2 after Kalman filter for selected columns:\n",
            "Total Solids Flow_Concentrate Kalman R2: -5.5453\n",
            "Total Liquid Flow_Concentrate Kalman R2: -31.1983\n",
            "Cu_Tails Kalman R2: 0.1909\n",
            "Fe_Tails Kalman R2: -4.3568\n",
            "Pb_Tails Kalman R2: -2.9826\n",
            "Zn_Tails Kalman R2: 0.2425\n",
            "Cu_Concentrate Kalman R2: -30205.4690\n",
            "Fe_Concentrate Kalman R2: -255.8081\n",
            "Pb_Concentrate Kalman R2: -980.4538\n",
            "Zn_Concentrate Kalman R2: -32.7555\n"
          ]
        }
      ]
    },
    {
      "cell_type": "code",
      "execution_count": null,
      "metadata": {
        "colab": {
          "base_uri": "https://localhost:8080/",
          "height": 451
        },
        "id": "uNodNtI3YeN9",
        "outputId": "63d28589-06c9-49a5-e17a-d681ad1a6293"
      },
      "outputs": [
        {
          "output_type": "display_data",
          "data": {
            "text/plain": [
              "<Figure size 1500x600 with 1 Axes>"
            ],
            "image/png": "[encoded data removed]"
          },
          "metadata": {}
        }
      ],
      "source": [
        "import matplotlib.pyplot as plt\n",
        "import numpy as np\n",
        "\n",
        "# Replace these lists with your actual data\n",
        "features = [\n",
        "    \"Air Efficiency\", \"Flotation Rate: Cell 1\", \"Entrainment: Cell 1\",\n",
        "    \"Total Solids Flow\", \"Total Liquid Flow\", \"Volumetric Flow\", \"Solids SG\",\n",
        "    \"Pulp SG\", \"Fe Concentrate\", \"Cu Concentrate\", \"Zn Concentrate\",\n",
        "    \"Pb Concentrate\", \"Solids Fraction\", \"Cu Concentrate\",\n",
        "    \"Pb Concentrate\", \"Zn Concentrate\", \"Total Solids Flow\",\n",
        "    \"Total Liquid Flow\", \"Volumetric Flow\", \"Solids SG\",\n",
        "    \"Pulp SG\", \"Solids Fraction\", \"Cu Tailings\", \"Pb Tailings\", \"Fe Tailings\", \"Zn Tailings\"\n",
        "]\n",
        "mae_scores_before = np.random.randint(1500, 2000, size=len(features))  # Replace with your actual data\n",
        "mae_scores_after = mae_scores_before - np.random.randint(100, 500, size=len(features))  # Replace with your actual data\n",
        "\n",
        "# Plotting the MAE values\n",
        "plt.figure(figsize=(15, 6))\n",
        "bar_width = 0.35  # Width of the bars\n",
        "\n",
        "# Set position of bar on X axis\n",
        "r1 = np.arange(len(mae_scores_before))\n",
        "r2 = [x + bar_width for x in r1]\n",
        "\n",
        "# Make the plot\n",
        "plt.bar(r1, mae_scores_before, color='blue', width=bar_width, edgecolor='grey', label='MAE Before Data Assimilation')\n",
        "plt.bar(r2, mae_scores_after, color='green', width=bar_width, edgecolor='grey', label='MAE After Data Assimilation')\n",
        "\n",
        "# Add xticks on the middle of the group bars\n",
        "plt.xlabel('Features', fontweight='bold')\n",
        "plt.ylabel('MAE', fontweight='bold')\n",
        "plt.xticks([r + bar_width for r in range(len(mae_scores_before))], features, rotation=90)\n",
        "\n",
        "# Create legend & Show graphic\n",
        "plt.legend()\n",
        "plt.tight_layout()  # Adjust the padding between and around subplots\n",
        "plt.show()\n"
      ]
    },
    {
      "cell_type": "code",
      "source": [
        "import pandas as pd\n",
        "\n",
        "# Assuming 'kf_filtered' contains the predictions after applying Kalman filter\n",
        "# You can replace it with the actual variable name if it's different\n",
        "kf_filtered_df = pd.DataFrame(kf_filtered, columns=observation_data.columns)\n",
        "\n",
        "# Save the DataFrame to an Excel file\n",
        "kf_filtered_df.to_excel('/content/output_after_kf.xlsx', index=False)\n"
      ],
      "metadata": {
        "id": "d4mjRMKzuAoD"
      },
      "execution_count": null,
      "outputs": []
    },
    {
      "cell_type": "markdown",
      "metadata": {
        "id": "buPXgrc9Xzxx"
      },
      "source": [
        "# KF CELL2"
      ]
    },
    {
      "cell_type": "code",
      "execution_count": null,
      "metadata": {
        "colab": {
          "base_uri": "https://localhost:8080/"
        },
        "id": "Kn6RZkWwW1Vp",
        "outputId": "e8b22a93-537b-4f2d-8351-a3c214c7ddfd"
      },
      "outputs": [
        {
          "output_type": "stream",
          "name": "stdout",
          "text": [
            "4/4 [==============================] - 0s 4ms/step\n",
            "MAE before Kalman filter:\n",
            "Air Efficiency: 1649.7528\n",
            "Flotation Rate: Cell 2: 3.8245\n",
            "Entrainment: Cell 2: 1.0850\n",
            "Total Solids Flow_Concentrate: 1222.4583\n",
            "Total Liquid Flow_Concentrate: 1542.0174\n",
            "Pulp Volumetric Flow_Concentrate: 2271.1932\n",
            "Solids SG_Concentrate: 4.2340\n",
            "Pulp SG_Concentrate: 1.5039\n",
            "Solids Fraction_Concentrate: 50.6377\n",
            "Cu_Concentrate: 29.5242\n",
            "Pb_Concentrate: 315.8162\n",
            "Fe_Concentrate: 224.8233\n",
            "Zn_Concentrate: 4.2354\n",
            "Total Solids Flow_Tailings: 7.9802\n",
            "Total Liquid Flow_Tailings: 229.9212\n",
            "Pulp Volumetric Flow_Tailings: 48.2197\n",
            "Solids SG_Tailings: 66.5223\n",
            "Pulp SG_Tailings: 32.0743\n",
            "Solids Fraction_Tailings: 37.2302\n",
            "Cu_Tails: 60.7989\n",
            "Pb_Tails: 38.6296\n",
            "Fe_Tails: 109.5430\n",
            "Zn_Tails: 31.3045\n",
            "\n",
            "MAE after Kalman filter:\n",
            "Air Efficiency Kalman MAE: 1648.3119\n",
            "Flotation Rate: Cell 2 Kalman MAE: 3.8210\n",
            "Entrainment: Cell 2 Kalman MAE: 1.0839\n",
            "Total Solids Flow_Concentrate Kalman MAE: 1221.2246\n",
            "Total Liquid Flow_Concentrate Kalman MAE: 1540.6134\n",
            "Pulp Volumetric Flow_Concentrate Kalman MAE: 2269.0569\n",
            "Solids SG_Concentrate Kalman MAE: 4.2279\n",
            "Pulp SG_Concentrate Kalman MAE: 1.5049\n",
            "Solids Fraction_Concentrate Kalman MAE: 50.6563\n",
            "Cu_Concentrate Kalman MAE: 29.4941\n",
            "Pb_Concentrate Kalman MAE: 315.5183\n",
            "Fe_Concentrate Kalman MAE: 224.5979\n",
            "Zn_Concentrate Kalman MAE: 4.2403\n",
            "Total Solids Flow_Tailings Kalman MAE: 7.9707\n",
            "Total Liquid Flow_Tailings Kalman MAE: 229.7279\n",
            "Pulp Volumetric Flow_Tailings Kalman MAE: 48.1718\n",
            "Solids SG_Tailings Kalman MAE: 66.4543\n",
            "Pulp SG_Tailings Kalman MAE: 32.0426\n",
            "Solids Fraction_Tailings Kalman MAE: 37.2409\n",
            "Cu_Tails Kalman MAE: 60.7431\n",
            "Pb_Tails Kalman MAE: 38.4659\n",
            "Fe_Tails Kalman MAE: 109.4399\n",
            "Zn_Tails Kalman MAE: 31.2732\n"
          ]
        }
      ],
      "source": [
        "import numpy as np\n",
        "import pandas as pd\n",
        "import matplotlib.pyplot as plt\n",
        "from tensorflow.keras.models import load_model\n",
        "from joblib import load\n",
        "from pykalman import KalmanFilter\n",
        "from sklearn.metrics import mean_absolute_error\n",
        "from tensorflow.keras import backend as K\n",
        "# Custom R2 metric function\n",
        "def r2_keras(output_index):\n",
        "    def r2(y_true, y_pred):\n",
        "        SS_res =  K.sum(K.square(y_true[:,output_index] - y_pred[:,output_index]))\n",
        "        SS_tot = K.sum(K.square(y_true[:,output_index] - K.mean(y_true[:,output_index])))\n",
        "        r2 = 1 - SS_res/(SS_tot + K.epsilon())\n",
        "        return r2\n",
        "    r2._name_ = f\"r2_{output_index}\"\n",
        "    return r2\n",
        "# Load the machine learning model\n",
        "model = load_model('/content/model7_23.h5', custom_objects={f'r2_{i}': r2_keras(i) for i in range(23)})\n",
        "\n",
        "# Load the scalers\n",
        "scalerX = load('/content/scalerX_24.joblib')\n",
        "scalerY = load('/content/scalerY_23.joblib')\n",
        "\n",
        "# Load the CSV data\n",
        "observation_data =pd.read_excel('/content/output_observation2.xlsx', engine='openpyxl')\n",
        "\n",
        "\n",
        "\n",
        "# Load input features\n",
        "data =pd.read_excel('/content/input_cell2kf.xlsx', engine='openpyxl')\n",
        "columns_to_replace_commas = [ 'Net Volume', 'Pulp Area', 'Froth surface area', 'Froth thickness', 'Air Flow rate', 'R_inf Ccp', 'R_inf Gn', 'R_inf Po', 'R_inf Sp', 'k_max Ccp', 'k_max Gn', 'k_maxPo', 'k_max Sp', 'Entrainement Savassi parameters', 'Total Solids Flow_Feed', 'Total Liquid Flow_Feed', 'Pulp Volumetric Flow_Feed', 'Solids SG_Feed', 'Pulp SG_Feed', 'Solids Fraction_Feed', 'Cu_Feed', 'Fe_Feed', 'Pb_Feed', 'Zn_Feed' ]\n",
        "data[columns_to_replace_commas] = data[columns_to_replace_commas].replace({',': '.'}, regex=True)\n",
        "\n",
        "# Select the desired columns\n",
        "selected_columns = [ 'Net Volume', 'Pulp Area', 'Froth surface area', 'Froth thickness', 'Air Flow rate', 'R_inf Ccp', 'R_inf Gn', 'R_inf Po', 'R_inf Sp', 'k_max Ccp', 'k_max Gn', 'k_maxPo', 'k_max Sp', 'Entrainement Savassi parameters', 'Total Solids Flow_Feed', 'Total Liquid Flow_Feed', 'Pulp Volumetric Flow_Feed', 'Solids SG_Feed', 'Pulp SG_Feed', 'Solids Fraction_Feed', 'Cu_Feed', 'Fe_Feed', 'Pb_Feed', 'Zn_Feed' ]  # Add all your columns\n",
        "input_data = data[selected_columns]\n",
        "\n",
        "# Scale input features\n",
        "scaled_input = scalerX.transform(input_data)\n",
        "\n",
        "# Make predictions with the model\n",
        "raw_predictions = model.predict(scaled_input)\n",
        "\n",
        "# Inverse scale the predictions\n",
        "final_predictions = scalerY.inverse_transform(raw_predictions)\n",
        "\n",
        "# Calculate MAE before Kalman filter\n",
        "mae_scores_before_kalman = [mean_absolute_error(observation_data.iloc[:, i], final_predictions[:, i]) for i in range(observation_data.shape[1])]\n",
        "\n",
        "# Initialize Kalman Filter\n",
        "# Adjust these parameters based on your data and model\n",
        "num_state_variables = final_predictions.shape[1]  # Number of state variables\n",
        "num_observed_variables = final_predictions.shape[1]  # Number of observed variables\n",
        "kf = KalmanFilter(\n",
        "    initial_state_mean=np.zeros(num_state_variables),\n",
        "    initial_state_covariance=np.eye(num_state_variables),\n",
        "    transition_matrices=np.eye(num_state_variables),\n",
        "    observation_matrices=np.eye(num_observed_variables),\n",
        "    transition_covariance=np.eye(num_state_variables) * 0.1,\n",
        "    observation_covariance=np.eye(num_observed_variables) * 0.1\n",
        ")\n",
        "\n",
        "# Apply Kalman filter to the model's predictions\n",
        "kf = kf.em(final_predictions, n_iter=5)  # EM algorithm to estimate parameters, adjust 'n_iter' as needed\n",
        "kf_filtered, _ = kf.smooth(final_predictions)\n",
        "\n",
        "# Calculate MAE for each column after applying Kalman filter\n",
        "kalman_mae_scores = [mean_absolute_error(observation_data.iloc[:, i], kf_filtered[:, i]) for i in range(observation_data.shape[1])]\n",
        "\n",
        "# Display MAE values before Kalman filter\n",
        "print(\"MAE before Kalman filter:\")\n",
        "for col, mae in zip(observation_data.columns, mae_scores_before_kalman):\n",
        "    print(f'{col}: {mae:.4f}')\n",
        "\n",
        "# Display MAE values after Kalman filter\n",
        "print(\"\\nMAE after Kalman filter:\")\n",
        "for col, mae in zip(observation_data.columns, kalman_mae_scores):\n",
        "    print(f'{col} Kalman MAE: {mae:.4f}')\n",
        "\n",
        "\n"
      ]
    },
    {
      "cell_type": "code",
      "source": [
        "import pandas as pd\n",
        "\n",
        "# Assuming 'kf_filtered' contains the predictions after applying Kalman filter\n",
        "# You can replace it with the actual variable name if it's different\n",
        "kf_filtered_df = pd.DataFrame(kf_filtered, columns=observation_data.columns)\n",
        "\n",
        "# Save the DataFrame to an Excel file\n",
        "kf_filtered_df.to_excel('/content/output2_after_kf.xlsx', index=False)\n"
      ],
      "metadata": {
        "id": "duWCR0KBzOzB"
      },
      "execution_count": null,
      "outputs": []
    },
    {
      "cell_type": "markdown",
      "metadata": {
        "id": "VSR-JUl8ZLH2"
      },
      "source": [
        "# KF CELL4"
      ]
    },
    {
      "cell_type": "code",
      "execution_count": null,
      "metadata": {
        "colab": {
          "base_uri": "https://localhost:8080/"
        },
        "id": "JjqrHpcQZHUp",
        "outputId": "33f10099-a068-4853-a532-f2acfd90c93e"
      },
      "outputs": [
        {
          "output_type": "stream",
          "name": "stdout",
          "text": [
            "4/4 [==============================] - 0s 4ms/step\n",
            "MAE before Kalman filter:\n",
            "Air Efficiency: 4082.7578\n",
            "Flotation Rate: Cell 4: 8.9604\n",
            "Entrainment: Cell 4: 0.5788\n",
            "Total Solids Flow_Concentrate: 2591.5089\n",
            "Total Liquid Flow_Concentrate: 4523.5305\n",
            "Pulp Volumetric Flow_Concentrate: 5394.4467\n",
            "Solids SG_Concentrate: 9.9508\n",
            "Pulp SG_Concentrate: 1.4348\n",
            "Solids Fraction_Concentrate: 58.3944\n",
            "Cu_Concentrate: 256.3783\n",
            "Pb_Concentrate: 287.1445\n",
            "Fe_Concentrate: 135.1531\n",
            "Zn_Concentrate: 1.6982\n",
            "Total Solids Flow_Tailings: 18.4631\n",
            "Total Liquid Flow_Tailings: 521.1538\n",
            "Pulp Volumetric Flow_Tailings: 28.8709\n",
            "Solids SG_Tailings: 184.8449\n",
            "Pulp SG_Tailings: 57.5118\n",
            "Solids Fraction_Tailings: 43.1383\n",
            "Cu_Tails: 28.8141\n",
            "Pb_Tails: 71.3131\n",
            "Fe_Tails: 183.5764\n",
            "Zn_Tails: 4.3049\n",
            "\n",
            "MAE after Kalman filter:\n",
            "Air Efficiency Kalman MAE: 4081.0002\n",
            "Flotation Rate: Cell 4 Kalman MAE: 8.9562\n",
            "Entrainment: Cell 4 Kalman MAE: 0.5784\n",
            "Total Solids Flow_Concentrate Kalman MAE: 2590.3256\n",
            "Total Liquid Flow_Concentrate Kalman MAE: 4521.5515\n",
            "Pulp Volumetric Flow_Concentrate Kalman MAE: 5391.9454\n",
            "Solids SG_Concentrate Kalman MAE: 9.9444\n",
            "Pulp SG_Concentrate Kalman MAE: 1.4355\n",
            "Solids Fraction_Concentrate Kalman MAE: 58.4015\n",
            "Cu_Concentrate Kalman MAE: 256.2887\n",
            "Pb_Concentrate Kalman MAE: 286.9296\n",
            "Fe_Concentrate Kalman MAE: 135.0256\n",
            "Zn_Concentrate Kalman MAE: 1.7011\n",
            "Total Solids Flow_Tailings Kalman MAE: 18.4568\n",
            "Total Liquid Flow_Tailings Kalman MAE: 520.9973\n",
            "Pulp Volumetric Flow_Tailings Kalman MAE: 28.8557\n",
            "Solids SG_Tailings Kalman MAE: 184.7541\n",
            "Pulp SG_Tailings Kalman MAE: 57.4822\n",
            "Solids Fraction_Tailings Kalman MAE: 43.0707\n",
            "Cu_Tails Kalman MAE: 28.7980\n",
            "Pb_Tails Kalman MAE: 71.2483\n",
            "Fe_Tails Kalman MAE: 183.4894\n",
            "Zn_Tails Kalman MAE: 4.3035\n"
          ]
        }
      ],
      "source": [
        "import numpy as np\n",
        "import pandas as pd\n",
        "import matplotlib.pyplot as plt\n",
        "from tensorflow.keras.models import load_model\n",
        "from joblib import load\n",
        "from pykalman import KalmanFilter\n",
        "from sklearn.metrics import mean_absolute_error\n",
        "from tensorflow.keras import backend as K\n",
        "# Custom R2 metric function\n",
        "def r2_keras(output_index):\n",
        "    def r2(y_true, y_pred):\n",
        "        SS_res =  K.sum(K.square(y_true[:,output_index] - y_pred[:,output_index]))\n",
        "        SS_tot = K.sum(K.square(y_true[:,output_index] - K.mean(y_true[:,output_index])))\n",
        "        r2 = 1 - SS_res/(SS_tot + K.epsilon())\n",
        "        return r2\n",
        "    r2._name_ = f\"r2_{output_index}\"\n",
        "    return r2\n",
        "# Load the machine learning model\n",
        "model = load_model('/content/model7_23.h5', custom_objects={f'r2_{i}': r2_keras(i) for i in range(23)})\n",
        "\n",
        "# Load the scalers\n",
        "scalerX = load('/content/scalerX_24.joblib')\n",
        "scalerY = load('/content/scalerY_23.joblib')\n",
        "\n",
        "# Load the CSV data\n",
        "observation_data =pd.read_excel('/content/Output_observation4 (1).xlsx', engine='openpyxl')\n",
        "\n",
        "\n",
        "\n",
        "# Load input features\n",
        "data =pd.read_excel('/content/input_cell4kf.xlsx', engine='openpyxl')\n",
        "columns_to_replace_commas = [ 'Net Volume', 'Pulp Area', 'Froth surface area', 'Froth thickness', 'Air Flow rate', 'R_inf Ccp', 'R_inf Gn', 'R_inf Po', 'R_inf Sp', 'k_max Ccp', 'k_max Gn', 'k_maxPo', 'k_max Sp', 'Entrainement Savassi parameters', 'Total Solids Flow_Feed', 'Total Liquid Flow_Feed', 'Pulp Volumetric Flow_Feed', 'Solids SG_Feed', 'Pulp SG_Feed', 'Solids Fraction_Feed', 'Cu_Feed', 'Fe_Feed', 'Pb_Feed', 'Zn_Feed' ]\n",
        "data[columns_to_replace_commas] = data[columns_to_replace_commas].replace({',': '.'}, regex=True)\n",
        "\n",
        "# Select the desired columns\n",
        "selected_columns = [ 'Net Volume', 'Pulp Area', 'Froth surface area', 'Froth thickness', 'Air Flow rate', 'R_inf Ccp', 'R_inf Gn', 'R_inf Po', 'R_inf Sp', 'k_max Ccp', 'k_max Gn', 'k_maxPo', 'k_max Sp', 'Entrainement Savassi parameters', 'Total Solids Flow_Feed', 'Total Liquid Flow_Feed', 'Pulp Volumetric Flow_Feed', 'Solids SG_Feed', 'Pulp SG_Feed', 'Solids Fraction_Feed', 'Cu_Feed', 'Fe_Feed', 'Pb_Feed', 'Zn_Feed' ]  # Add all your columns\n",
        "input_data = data[selected_columns]\n",
        "\n",
        "# Scale input features\n",
        "scaled_input = scalerX.transform(input_data)\n",
        "\n",
        "# Make predictions with the model\n",
        "raw_predictions = model.predict(scaled_input)\n",
        "\n",
        "# Inverse scale the predictions\n",
        "final_predictions = scalerY.inverse_transform(raw_predictions)\n",
        "\n",
        "# Calculate MAE before Kalman filter\n",
        "mae_scores_before_kalman = [mean_absolute_error(observation_data.iloc[:, i], final_predictions[:, i]) for i in range(observation_data.shape[1])]\n",
        "\n",
        "# Initialize Kalman Filter\n",
        "# Adjust these parameters based on your data and model\n",
        "num_state_variables = final_predictions.shape[1]  # Number of state variables\n",
        "num_observed_variables = final_predictions.shape[1]  # Number of observed variables\n",
        "kf = KalmanFilter(\n",
        "    initial_state_mean=np.zeros(num_state_variables),\n",
        "    initial_state_covariance=np.eye(num_state_variables),\n",
        "    transition_matrices=np.eye(num_state_variables),\n",
        "    observation_matrices=np.eye(num_observed_variables),\n",
        "    transition_covariance=np.eye(num_state_variables) * 0.1,\n",
        "    observation_covariance=np.eye(num_observed_variables) * 0.1\n",
        ")\n",
        "\n",
        "# Apply Kalman filter to the model's predictions\n",
        "kf = kf.em(final_predictions, n_iter=5)  # EM algorithm to estimate parameters, adjust 'n_iter' as needed\n",
        "kf_filtered, _ = kf.smooth(final_predictions)\n",
        "\n",
        "# Calculate MAE for each column after applying Kalman filter\n",
        "kalman_mae_scores = [mean_absolute_error(observation_data.iloc[:, i], kf_filtered[:, i]) for i in range(observation_data.shape[1])]\n",
        "\n",
        "# Display MAE values before Kalman filter\n",
        "print(\"MAE before Kalman filter:\")\n",
        "for col, mae in zip(observation_data.columns, mae_scores_before_kalman):\n",
        "    print(f'{col}: {mae:.4f}')\n",
        "\n",
        "# Display MAE values after Kalman filter\n",
        "print(\"\\nMAE after Kalman filter:\")\n",
        "for col, mae in zip(observation_data.columns, kalman_mae_scores):\n",
        "    print(f'{col} Kalman MAE: {mae:.4f}')\n",
        "\n",
        "\n"
      ]
    },
    {
      "cell_type": "code",
      "execution_count": null,
      "metadata": {
        "colab": {
          "base_uri": "https://localhost:8080/"
        },
        "id": "ByjHj2zWPCCT",
        "outputId": "f4e02456-829b-41e6-857c-c05aa015d6c6"
      },
      "outputs": [
        {
          "name": "stdout",
          "output_type": "stream",
          "text": [
            "Collecting pykalman\n",
            "  Downloading pykalman-0.9.5.tar.gz (228 kB)\n",
            "\u001b[?25l     \u001b[90m━━━━━━━━━━━━━━━━━━━━━━━━━━━━━━━━━━━━━━━━\u001b[0m \u001b[32m0.0/228.9 kB\u001b[0m \u001b[31m?\u001b[0m eta \u001b[36m-:--:--\u001b[0m\r\u001b[2K     \u001b[91m━━━━━━━━━━\u001b[0m\u001b[91m╸\u001b[0m\u001b[90m━━━━━━━━━━━━━━━━━━━━━━━━━━━━━\u001b[0m \u001b[32m61.4/228.9 kB\u001b[0m \u001b[31m1.9 MB/s\u001b[0m eta \u001b[36m0:00:01\u001b[0m\r\u001b[2K     \u001b[90m━━━━━━━━━━━━━━━━━━━━━━━━━━━━━━━━━━━━━━━━\u001b[0m \u001b[32m228.9/228.9 kB\u001b[0m \u001b[31m3.7 MB/s\u001b[0m eta \u001b[36m0:00:00\u001b[0m\n",
            "\u001b[?25h  Preparing metadata (setup.py) ... \u001b[?25l\u001b[?25hdone\n",
            "Building wheels for collected packages: pykalman\n",
            "  Building wheel for pykalman (setup.py) ... \u001b[?25l\u001b[?25hdone\n",
            "  Created wheel for pykalman: filename=pykalman-0.9.5-py3-none-any.whl size=48442 sha256=78a80e717d4ad2a054ba83bb8db75490caa09d3c18fe607084855998c66aeed4\n",
            "  Stored in directory: /root/.cache/pip/wheels/76/33/ef/5f332226e13a5089c6dd4b01cc2bcb59491d18f955fa2d3807\n",
            "Successfully built pykalman\n",
            "Installing collected packages: pykalman\n",
            "Successfully installed pykalman-0.9.5\n"
          ]
        }
      ],
      "source": [
        "pip install pykalman"
      ]
    },
    {
      "cell_type": "markdown",
      "metadata": {
        "id": "uiKpXpr_V42Y"
      },
      "source": [
        "# DATA ASSIMILATION USING 3D_VAR METHOD"
      ]
    },
    {
      "cell_type": "code",
      "execution_count": null,
      "metadata": {
        "colab": {
          "base_uri": "https://localhost:8080/"
        },
        "id": "m9pfQPCqC0un",
        "outputId": "c90b5046-685c-4666-b2dc-28bf9cc3022f"
      },
      "outputs": [
        {
          "name": "stdout",
          "output_type": "stream",
          "text": [
            "1/1 [==============================] - 0s 85ms/step\n"
          ]
        },
        {
          "name": "stderr",
          "output_type": "stream",
          "text": [
            "/usr/local/lib/python3.10/dist-packages/sklearn/base.py:439: UserWarning: X does not have valid feature names, but MinMaxScaler was fitted with feature names\n",
            "  warnings.warn(\n",
            "/usr/local/lib/python3.10/dist-packages/sklearn/base.py:439: UserWarning: X does not have valid feature names, but MinMaxScaler was fitted with feature names\n",
            "  warnings.warn(\n"
          ]
        },
        {
          "name": "stdout",
          "output_type": "stream",
          "text": [
            "1/1 [==============================] - 0s 25ms/step\n",
            "1/1 [==============================] - 0s 22ms/step\n",
            "1/1 [==============================] - 0s 22ms/step\n"
          ]
        },
        {
          "name": "stderr",
          "output_type": "stream",
          "text": [
            "/usr/local/lib/python3.10/dist-packages/sklearn/base.py:439: UserWarning: X does not have valid feature names, but MinMaxScaler was fitted with feature names\n",
            "  warnings.warn(\n",
            "/usr/local/lib/python3.10/dist-packages/sklearn/base.py:439: UserWarning: X does not have valid feature names, but MinMaxScaler was fitted with feature names\n",
            "  warnings.warn(\n",
            "/usr/local/lib/python3.10/dist-packages/sklearn/base.py:439: UserWarning: X does not have valid feature names, but MinMaxScaler was fitted with feature names\n",
            "  warnings.warn(\n"
          ]
        },
        {
          "name": "stdout",
          "output_type": "stream",
          "text": [
            "1/1 [==============================] - 0s 23ms/step\n",
            "1/1 [==============================] - 0s 22ms/step\n",
            "1/1 [==============================] - 0s 22ms/step\n"
          ]
        },
        {
          "name": "stderr",
          "output_type": "stream",
          "text": [
            "/usr/local/lib/python3.10/dist-packages/sklearn/base.py:439: UserWarning: X does not have valid feature names, but MinMaxScaler was fitted with feature names\n",
            "  warnings.warn(\n",
            "/usr/local/lib/python3.10/dist-packages/sklearn/base.py:439: UserWarning: X does not have valid feature names, but MinMaxScaler was fitted with feature names\n",
            "  warnings.warn(\n",
            "/usr/local/lib/python3.10/dist-packages/sklearn/base.py:439: UserWarning: X does not have valid feature names, but MinMaxScaler was fitted with feature names\n",
            "  warnings.warn(\n"
          ]
        },
        {
          "name": "stdout",
          "output_type": "stream",
          "text": [
            "1/1 [==============================] - 0s 24ms/step\n",
            "1/1 [==============================] - 0s 23ms/step\n",
            "1/1 [==============================] - 0s 22ms/step\n"
          ]
        },
        {
          "name": "stderr",
          "output_type": "stream",
          "text": [
            "/usr/local/lib/python3.10/dist-packages/sklearn/base.py:439: UserWarning: X does not have valid feature names, but MinMaxScaler was fitted with feature names\n",
            "  warnings.warn(\n",
            "/usr/local/lib/python3.10/dist-packages/sklearn/base.py:439: UserWarning: X does not have valid feature names, but MinMaxScaler was fitted with feature names\n",
            "  warnings.warn(\n",
            "/usr/local/lib/python3.10/dist-packages/sklearn/base.py:439: UserWarning: X does not have valid feature names, but MinMaxScaler was fitted with feature names\n",
            "  warnings.warn(\n"
          ]
        },
        {
          "name": "stdout",
          "output_type": "stream",
          "text": [
            "1/1 [==============================] - 0s 22ms/step\n",
            "1/1 [==============================] - 0s 22ms/step\n",
            "1/1 [==============================] - 0s 23ms/step\n"
          ]
        },
        {
          "name": "stderr",
          "output_type": "stream",
          "text": [
            "/usr/local/lib/python3.10/dist-packages/sklearn/base.py:439: UserWarning: X does not have valid feature names, but MinMaxScaler was fitted with feature names\n",
            "  warnings.warn(\n",
            "/usr/local/lib/python3.10/dist-packages/sklearn/base.py:439: UserWarning: X does not have valid feature names, but MinMaxScaler was fitted with feature names\n",
            "  warnings.warn(\n",
            "/usr/local/lib/python3.10/dist-packages/sklearn/base.py:439: UserWarning: X does not have valid feature names, but MinMaxScaler was fitted with feature names\n",
            "  warnings.warn(\n"
          ]
        },
        {
          "name": "stdout",
          "output_type": "stream",
          "text": [
            "1/1 [==============================] - 0s 23ms/step\n",
            "1/1 [==============================] - 0s 22ms/step\n",
            "1/1 [==============================] - 0s 22ms/step\n"
          ]
        },
        {
          "name": "stderr",
          "output_type": "stream",
          "text": [
            "/usr/local/lib/python3.10/dist-packages/sklearn/base.py:439: UserWarning: X does not have valid feature names, but MinMaxScaler was fitted with feature names\n",
            "  warnings.warn(\n",
            "/usr/local/lib/python3.10/dist-packages/sklearn/base.py:439: UserWarning: X does not have valid feature names, but MinMaxScaler was fitted with feature names\n",
            "  warnings.warn(\n",
            "/usr/local/lib/python3.10/dist-packages/sklearn/base.py:439: UserWarning: X does not have valid feature names, but MinMaxScaler was fitted with feature names\n",
            "  warnings.warn(\n"
          ]
        },
        {
          "name": "stdout",
          "output_type": "stream",
          "text": [
            "1/1 [==============================] - 0s 23ms/step\n",
            "1/1 [==============================] - 0s 22ms/step\n",
            "1/1 [==============================] - 0s 22ms/step\n"
          ]
        },
        {
          "name": "stderr",
          "output_type": "stream",
          "text": [
            "/usr/local/lib/python3.10/dist-packages/sklearn/base.py:439: UserWarning: X does not have valid feature names, but MinMaxScaler was fitted with feature names\n",
            "  warnings.warn(\n",
            "/usr/local/lib/python3.10/dist-packages/sklearn/base.py:439: UserWarning: X does not have valid feature names, but MinMaxScaler was fitted with feature names\n",
            "  warnings.warn(\n",
            "/usr/local/lib/python3.10/dist-packages/sklearn/base.py:439: UserWarning: X does not have valid feature names, but MinMaxScaler was fitted with feature names\n",
            "  warnings.warn(\n"
          ]
        },
        {
          "name": "stdout",
          "output_type": "stream",
          "text": [
            "1/1 [==============================] - 0s 31ms/step\n",
            "1/1 [==============================] - 0s 22ms/step\n",
            "1/1 [==============================] - 0s 22ms/step\n"
          ]
        },
        {
          "name": "stderr",
          "output_type": "stream",
          "text": [
            "/usr/local/lib/python3.10/dist-packages/sklearn/base.py:439: UserWarning: X does not have valid feature names, but MinMaxScaler was fitted with feature names\n",
            "  warnings.warn(\n",
            "/usr/local/lib/python3.10/dist-packages/sklearn/base.py:439: UserWarning: X does not have valid feature names, but MinMaxScaler was fitted with feature names\n",
            "  warnings.warn(\n",
            "/usr/local/lib/python3.10/dist-packages/sklearn/base.py:439: UserWarning: X does not have valid feature names, but MinMaxScaler was fitted with feature names\n",
            "  warnings.warn(\n"
          ]
        },
        {
          "name": "stdout",
          "output_type": "stream",
          "text": [
            "1/1 [==============================] - 0s 22ms/step\n",
            "1/1 [==============================] - 0s 22ms/step\n",
            "1/1 [==============================] - 0s 26ms/step\n"
          ]
        },
        {
          "name": "stderr",
          "output_type": "stream",
          "text": [
            "/usr/local/lib/python3.10/dist-packages/sklearn/base.py:439: UserWarning: X does not have valid feature names, but MinMaxScaler was fitted with feature names\n",
            "  warnings.warn(\n",
            "/usr/local/lib/python3.10/dist-packages/sklearn/base.py:439: UserWarning: X does not have valid feature names, but MinMaxScaler was fitted with feature names\n",
            "  warnings.warn(\n",
            "/usr/local/lib/python3.10/dist-packages/sklearn/base.py:439: UserWarning: X does not have valid feature names, but MinMaxScaler was fitted with feature names\n",
            "  warnings.warn(\n"
          ]
        },
        {
          "name": "stdout",
          "output_type": "stream",
          "text": [
            "4/4 [==============================] - 0s 4ms/step\n",
            "4/4 [==============================] - 0s 3ms/step\n",
            "\n",
            "MSE Scores Before 3D-Var Optimization:\n",
            "Feature 0 Before Optimization MSE: 465576.7047\n",
            "Feature 1 Before Optimization MSE: 0.7533\n",
            "Feature 2 Before Optimization MSE: 0.0127\n",
            "Feature 3 Before Optimization MSE: 440768.4589\n",
            "Feature 4 Before Optimization MSE: 1906258.6008\n",
            "Feature 5 Before Optimization MSE: 2324742.6315\n",
            "Feature 6 Before Optimization MSE: 11.7985\n",
            "Feature 7 Before Optimization MSE: 2.6815\n",
            "Feature 8 Before Optimization MSE: 3671.9270\n",
            "Feature 9 Before Optimization MSE: 12496.8157\n",
            "Feature 10 Before Optimization MSE: 14568.7868\n",
            "Feature 11 Before Optimization MSE: 28225.5058\n",
            "Feature 12 Before Optimization MSE: 42.3247\n",
            "Feature 13 Before Optimization MSE: 8729.0420\n",
            "Feature 14 Before Optimization MSE: 11047.7928\n",
            "Feature 15 Before Optimization MSE: 35243.6606\n",
            "Feature 16 Before Optimization MSE: 428.2434\n",
            "Feature 17 Before Optimization MSE: 260.9037\n",
            "Feature 18 Before Optimization MSE: 31.3165\n",
            "Feature 19 Before Optimization MSE: 6.8330\n",
            "Feature 20 Before Optimization MSE: 7.0037\n",
            "Feature 21 Before Optimization MSE: 4223.3436\n",
            "Feature 22 Before Optimization MSE: 14.5941\n",
            "\n",
            "MSE Scores After 3D-Var Optimization:\n",
            "Feature 0 After Optimization MSE: 465576.7047\n",
            "Feature 1 After Optimization MSE: 0.7533\n",
            "Feature 2 After Optimization MSE: 0.0127\n",
            "Feature 3 After Optimization MSE: 440768.4589\n",
            "Feature 4 After Optimization MSE: 1906258.6008\n",
            "Feature 5 After Optimization MSE: 2324742.6315\n",
            "Feature 6 After Optimization MSE: 11.7985\n",
            "Feature 7 After Optimization MSE: 2.6815\n",
            "Feature 8 After Optimization MSE: 3671.9270\n",
            "Feature 9 After Optimization MSE: 12496.8157\n",
            "Feature 10 After Optimization MSE: 14568.7868\n",
            "Feature 11 After Optimization MSE: 28225.5058\n",
            "Feature 12 After Optimization MSE: 42.3247\n",
            "Feature 13 After Optimization MSE: 8729.0420\n",
            "Feature 14 After Optimization MSE: 11047.7928\n",
            "Feature 15 After Optimization MSE: 35243.6606\n",
            "Feature 16 After Optimization MSE: 428.2434\n",
            "Feature 17 After Optimization MSE: 260.9037\n",
            "Feature 18 After Optimization MSE: 31.3165\n",
            "Feature 19 After Optimization MSE: 6.8330\n",
            "Feature 20 After Optimization MSE: 7.0037\n",
            "Feature 21 After Optimization MSE: 4223.3436\n",
            "Feature 22 After Optimization MSE: 14.5941\n"
          ]
        },
        {
          "name": "stderr",
          "output_type": "stream",
          "text": [
            "/usr/local/lib/python3.10/dist-packages/sklearn/base.py:439: UserWarning: X does not have valid feature names, but MinMaxScaler was fitted with feature names\n",
            "  warnings.warn(\n"
          ]
        }
      ],
      "source": [
        "import numpy as np\n",
        "import pandas as pd\n",
        "from tensorflow.keras.models import load_model\n",
        "from joblib import load\n",
        "from scipy.optimize import minimize\n",
        "from sklearn.metrics import r2_score\n",
        "import tensorflow.keras.backend as K\n",
        "\n",
        "# Custom R2 metric function\n",
        "def r2_keras(output_index):\n",
        "    def r2(y_true, y_pred):\n",
        "        SS_res = K.sum(K.square(y_true[:, output_index] - y_pred[:, output_index]))\n",
        "        SS_tot = K.sum(K.square(y_true[:, output_index] - K.mean(y_true[:, output_index])))\n",
        "        return 1 - SS_res / (SS_tot + K.epsilon())\n",
        "    r2.__name__ = f\"r2_{output_index}\"\n",
        "    return r2\n",
        "\n",
        "# Load the machine learning model\n",
        "model = load_model('/content/model7_23.h5', custom_objects={f'r2_{i}': r2_keras(i) for i in range(23)})\n",
        "\n",
        "# Load the scalers\n",
        "scalerX = load('/content/scalerX_24.joblib')\n",
        "scalerY = load('/content/scalerY_23.joblib')\n",
        "\n",
        "# Adjusted Model Prediction Function\n",
        "def model_function(input_states):\n",
        "    scaled_inputs = scalerX.transform(input_states)\n",
        "    predictions = model.predict(scaled_inputs)\n",
        "    scaled_outputs = scalerY.inverse_transform(predictions)\n",
        "    return scaled_outputs\n",
        "\n",
        "# Cost Function for 3D-Var\n",
        "def cost_function(input_state, model, observations, B_inv):\n",
        "    model_output = model(np.array([input_state]))[0]  # Predict for a single state\n",
        "    residuals = model_output - observations\n",
        "    cost = 0\n",
        "    for residual in residuals:\n",
        "        cost += residual.T @ B_inv @ residual\n",
        "    return cost\n",
        "\n",
        "# Define B_inv (Inverse of Background Error Covariance Matrix)\n",
        "B_inv = np.eye(23)  # Adjust as necessary\n",
        "\n",
        "# Initial State Guess (for 24 features)\n",
        "initial_state_guess = np.random.randn(24)  # Adjust as necessary\n",
        "\n",
        "# Load and preprocess your observation data to have 23 features\n",
        "observation_data = pd.read_excel('/content/output_data (1).xlsx', engine='openpyxl').to_numpy()\n",
        "\n",
        "# Minimize the Cost Function\n",
        "result = minimize(cost_function, initial_state_guess, args=(model_function, observation_data, B_inv))\n",
        "optimized_state = result.x\n",
        "\n",
        "# Generate a set of initial states for the entire dataset (replicate initial_state_guess)\n",
        "initial_states = np.tile(initial_state_guess, (observation_data.shape[0], 1))\n",
        "\n",
        "# Make predictions using the initial and optimized states\n",
        "initial_predictions = model_function(initial_states)\n",
        "optimized_predictions = model_function(np.tile(optimized_state, (observation_data.shape[0], 1)))\n",
        "\n",
        "# Calculate MSE for each feature before and after optimization\n",
        "mse_scores_before = [mean_squared_error(observation_data[:, i], initial_predictions[:, i]) for i in range(observation_data.shape[1])]\n",
        "mse_scores_after = [mean_squared_error(observation_data[:, i], optimized_predictions[:, i]) for i in range(observation_data.shape[1])]\n",
        "\n",
        "# Print MSE scores\n",
        "print(\"\\nMSE Scores Before 3D-Var Optimization:\")\n",
        "for i, mse in enumerate(mse_scores_before):\n",
        "    print(f'Feature {i} Before Optimization MSE: {mse:.4f}')\n",
        "\n",
        "print(\"\\nMSE Scores After 3D-Var Optimization:\")\n",
        "for i, mse in enumerate(mse_scores_after):\n",
        "    print(f'Feature {i} After Optimization MSE: {mse:.4f}')\n"
      ]
    },
    {
      "cell_type": "code",
      "execution_count": null,
      "metadata": {
        "id": "VROC5-fxOHkn"
      },
      "outputs": [],
      "source": []
    }
  ],
  "metadata": {
    "colab": {
      "provenance": []
    },
    "kernelspec": {
      "display_name": "Python 3",
      "name": "python3"
    },
    "language_info": {
      "name": "python"
    }
  },
  "nbformat": 4,
  "nbformat_minor": 0
}
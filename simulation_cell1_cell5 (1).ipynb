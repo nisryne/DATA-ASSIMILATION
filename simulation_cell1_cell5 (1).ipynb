{
  "nbformat": 4,
  "nbformat_minor": 0,
  "metadata": {
    "colab": {
      "provenance": []
    },
    "kernelspec": {
      "name": "python3",
      "display_name": "Python 3"
    },
    "language_info": {
      "name": "python"
    }
  },
  "cells": [
    {
      "cell_type": "code",
      "execution_count": null,
      "metadata": {
        "colab": {
          "base_uri": "https://localhost:8080/"
        },
        "id": "eaBiuQUPztzJ",
        "outputId": "be108557-1456-4532-e901-241992317d99"
      },
      "outputs": [
        {
          "output_type": "stream",
          "name": "stdout",
          "text": [
            "4/4 [==============================] - 0s 5ms/step\n",
            "[[1.4990569e+02 1.1369913e-01 2.5790203e-01 ... 1.6147146e+01\n",
            "  2.2406361e+01 9.2632666e+00]\n",
            " [1.6806746e+02 9.9072270e-02 2.4768247e-01 ... 1.6405972e+01\n",
            "  2.1971416e+01 8.8433514e+00]\n",
            " [1.4496613e+02 9.3638748e-02 2.4726373e-01 ... 1.6920385e+01\n",
            "  2.3467773e+01 8.2434530e+00]\n",
            " ...\n",
            " [1.7792587e+02 1.1489642e-01 2.5919184e-01 ... 1.9633036e+01\n",
            "  1.7961935e+01 9.3038301e+00]\n",
            " [1.4045061e+02 5.6989569e-02 2.4971357e-01 ... 2.0002998e+01\n",
            "  2.0090961e+01 8.0908251e+00]\n",
            " [1.8503870e+02 9.7133338e-02 2.4823910e-01 ... 1.7180803e+01\n",
            "  2.1128700e+01 7.4423461e+00]]\n"
          ]
        }
      ],
      "source": [
        "import pandas as pd\n",
        "from tensorflow.keras.models import load_model\n",
        "from joblib import load\n",
        "# Custom R2 metric function\n",
        "def r2_keras(output_index):\n",
        "    def r2(y_true, y_pred):\n",
        "        SS_res =  K.sum(K.square(y_true[:,output_index] - y_pred[:,output_index]))\n",
        "        SS_tot = K.sum(K.square(y_true[:,output_index] - K.mean(y_true[:,output_index])))\n",
        "        r2 = 1 - SS_res/(SS_tot + K.epsilon())\n",
        "        return r2\n",
        "    r2._name_ = f\"r2_{output_index}\"\n",
        "    return r2\n",
        "# Load the CSV data\n",
        "data = pd.read_excel('/content/input (1).xlsx', engine='openpyxl')\n",
        "\n",
        "\n",
        "# Select the desired columns\n",
        "selected_columns = [ 'Net Volume', 'Pulp Area', 'Froth surface area', 'Froth thickness', 'Air Flow rate', 'R_inf Ccp', 'R_inf Gn', 'R_inf Po', 'R_inf Sp', 'k_max Ccp', 'k_max Gn', 'k_maxPo', 'k_max Sp', 'Entrainement Savassi parameters', 'Total Solids Flow_Feed', 'Total Liquid Flow_Feed', 'Pulp Volumetric Flow_Feed', 'Solids SG_Feed', 'Pulp SG_Feed', 'Solids Fraction_Feed', 'Cu_Feed', 'Fe_Feed', 'Pb_Feed', 'Zn_Feed' ]  # Add all your columns\n",
        "input_data = data[selected_columns]\n",
        "\n",
        "# Load the machine learning model\n",
        "model = load_model('/content/model7_23.h5', custom_objects={f'r2_{i}': r2_keras(i) for i in range(23)})\n",
        "\n",
        "# Load the scalers\n",
        "scalerX = load('/content/scalerX_24.joblib')\n",
        "scalerY = load('/content/scalerY_23.joblib')\n",
        "\n",
        "# Scale input features\n",
        "scaled_input = scalerX.transform(input_data)\n",
        "\n",
        "# Make predictions\n",
        "raw_predictions = model.predict(scaled_input)\n",
        "\n",
        "# Reverse scale the output\n",
        "final_predictions = scalerY.inverse_transform(raw_predictions)\n",
        "\n",
        "# Display the predictions\n",
        "print(final_predictions)\n"
      ]
    },
    {
      "cell_type": "code",
      "source": [],
      "metadata": {
        "id": "-Bm_Tejc_hXP"
      },
      "execution_count": null,
      "outputs": []
    },
    {
      "cell_type": "code",
      "source": [
        "import pandas as pd\n",
        "\n",
        "# Assuming 'final_predictions' contains your predictions\n",
        "# You can replace it with the actual variable name if it's different\n",
        "predictions_df = pd.DataFrame(final_predictions, columns=['Air Efficiency', 'Flotation Rate: Cell 1', 'Entrainment: Cell 1', 'Total Solids Flow_Concentrate', 'Total Liquid Flow_Concentrate', 'Pulp Volumetric Flow_Concentrate', 'Solids SG_Concentrate', 'Pulp SG_Concentrate', 'Solids Fraction_Concentrate', 'Total Solids Flow_Tailings', 'Total Liquid Flow_Tailings', 'Pulp Volumetric Flow_Tailings', 'Solids SG_Tailings', 'Pulp SG_Tailings', 'Solids Fraction_Tailings', 'Cu_Tails', 'Fe_Tails', 'Pb_Tails', 'Zn_Tails', 'Cu_Concentrate', 'Fe_Concentrate', 'Pb_Concentrate', 'Zn_Concentrate'])\n",
        "\n",
        "# Save the DataFrame to a CSV file\n",
        "predictions_df.head(100).to_excel('/content/output_predictions1.xlsx', index=False)\n"
      ],
      "metadata": {
        "id": "ofadh1TZ0A2E"
      },
      "execution_count": null,
      "outputs": []
    },
    {
      "cell_type": "code",
      "source": [
        "import pandas as pd\n",
        "from sklearn.metrics import r2_score\n",
        "import numpy as np\n",
        "\n",
        "# Load the data from the files\n",
        "ground_truth_df = pd.read_excel('/content/output_data.xlsx')  # Replace with the actual path\n",
        "predicted_df = pd.read_excel('/content/output_predictions1.xlsx')  # Replace with the actual path\n",
        "\n",
        "# Ensure both DataFrames have the same number of rows\n",
        "if ground_truth_df.shape[0] != predicted_df.shape[0]:\n",
        "    raise ValueError(\"Number of rows in ground truth and predicted DataFrames must be the same.\")\n",
        "\n",
        "# Extract ground truth and predicted values for all columns\n",
        "actual_values = ground_truth_df.values\n",
        "predicted_values = predicted_df.values\n",
        "\n",
        "# Calculate R-squared for each column\n",
        "r2_scores = [r2_score(actual_values[:, i], predicted_values[:, i]) for i in range(actual_values.shape[1])]\n",
        "\n",
        "# Print individual R-squared values and average R-squared\n",
        "for col, r2 in zip(ground_truth_df.columns, r2_scores):\n",
        "    print(f'{col} R-squared: {r2:.4f}')\n",
        "\n",
        "average_r2 = np.mean(r2_scores)\n",
        "print(f'Average R-squared: {average_r2:.4f}')\n"
      ],
      "metadata": {
        "colab": {
          "base_uri": "https://localhost:8080/"
        },
        "id": "KPW5S6NW0Gsw",
        "outputId": "b06f80b5-17f0-4b93-ef85-4ecca74e61bf"
      },
      "execution_count": null,
      "outputs": [
        {
          "output_type": "stream",
          "name": "stdout",
          "text": [
            "Air Efficiency R-squared: 0.0819\n",
            " Flotation Rate R-squared: -39.0094\n",
            "Entrainment: Cell 1 R-squared: -3.4888\n",
            "Total Solids Flow_Concentrate R-squared: -7.2563\n",
            "Total Liquid Flow_Concentrate R-squared: -33.7236\n",
            "Pulp Volumetric Flow_Concentrate R-squared: -32.3083\n",
            "Solids SG_Concentrate R-squared: -326.5232\n",
            "Pulp SG_Concentrate R-squared: -3.7331\n",
            "Solids Fraction_Concentrate R-squared: -4.1581\n",
            "Cu_Concentrate R-squared: -30412.0073\n",
            "Pb_Concentrate R-squared: -3285.8236\n",
            "Fe_Concentrate R-squared: -405.5597\n",
            "Zn_Concentrate R-squared: -32.7592\n",
            "Total Solids Flow_Tailings R-squared: -37.7215\n",
            "Total Liquid Flow_Tailings R-squared: -17.9190\n",
            "Pulp Volumetric Flow_Tailings R-squared: -51.9005\n",
            "Solids SG_Tailings R-squared: -39685.3524\n",
            "Pulp SG_Tailings R-squared: -21369.2481\n",
            "Solids Fraction_Tailings R-squared: -5.1406\n",
            "Cu_Tails R-squared: 0.9731\n",
            "Pb_Tails R-squared: -4.3225\n",
            "Fe_Tails R-squared: -7.0235\n",
            "Zn_Tails R-squared: 0.9647\n",
            "Average R-squared: -4163.6069\n"
          ]
        }
      ]
    },
    {
      "cell_type": "code",
      "source": [
        "import pandas as pd\n",
        "from sklearn.metrics import mean_absolute_error, mean_squared_error\n",
        "\n",
        "# Load the data from the files\n",
        "ground_truth_df = pd.read_excel('/content/output_data.xlsx')  # Replace with the actual path\n",
        "predicted_df = pd.read_excel('/content/output_predictions1.xlsx')\n",
        "\n",
        "# Ensure both DataFrames have the same number of rows\n",
        "if ground_truth_df.shape[0] != predicted_df.shape[0]:\n",
        "    raise ValueError(\"Number of rows in ground truth and predicted DataFrames must be the same.\")\n",
        "\n",
        "# Extract ground truth and predicted values for all columns\n",
        "actual_values = ground_truth_df.values\n",
        "predicted_values = predicted_df.values\n",
        "\n",
        "# Calculate MAE and RMSE for each column\n",
        "mae_scores = [mean_absolute_error(actual_values[:, i], predicted_values[:, i]) for i in range(actual_values.shape[1])]\n",
        "rmse_scores = [mean_squared_error(actual_values[:, i], predicted_values[:, i], squared=False) for i in range(actual_values.shape[1])]\n",
        "\n",
        "# Prepare results\n",
        "mae_rmse_results = []\n",
        "for col, mae, rmse in zip(ground_truth_df.columns, mae_scores, rmse_scores):\n",
        "    mae_rmse_results.append({\n",
        "        \"Column\": col,\n",
        "        \"MAE\": mae,\n",
        "        \"RMSE\": rmse\n",
        "    })\n",
        "\n",
        "mae_rmse_results_df = pd.DataFrame(mae_rmse_results)\n",
        "average_mae = mae_rmse_results_df[\"MAE\"].mean()\n",
        "average_rmse = mae_rmse_results_df[\"RMSE\"].mean()\n",
        "mae_rmse_results_df, average_mae, average_rmse\n",
        "\n"
      ],
      "metadata": {
        "colab": {
          "base_uri": "https://localhost:8080/"
        },
        "id": "3IpgVQm45O6k",
        "outputId": "45af28d6-4606-4cba-e74a-3172050ef399"
      },
      "execution_count": null,
      "outputs": [
        {
          "output_type": "execute_result",
          "data": {
            "text/plain": [
              "(                              Column         MAE        RMSE\n",
              " 0                     Air Efficiency   19.034621   23.076196\n",
              " 1                     Flotation Rate    0.046829    0.056471\n",
              " 2                Entrainment: Cell 1    0.004121    0.005952\n",
              " 3      Total Solids Flow_Concentrate   20.505024   23.785581\n",
              " 4      Total Liquid Flow_Concentrate  153.417125  162.400365\n",
              " 5   Pulp Volumetric Flow_Concentrate  149.036335  159.736905\n",
              " 6              Solids SG_Concentrate    0.682015    0.687394\n",
              " 7                Pulp SG_Concentrate    1.512823    1.704121\n",
              " 8        Solids Fraction_Concentrate   55.829303   62.109797\n",
              " 9                     Cu_Concentrate  111.179829  111.441202\n",
              " 10                    Pb_Concentrate   23.030543   30.137254\n",
              " 11                    Fe_Concentrate   34.968395   41.912408\n",
              " 12                    Zn_Concentrate    6.656152    6.758358\n",
              " 13        Total Solids Flow_Tailings   92.508156   93.576551\n",
              " 14        Total Liquid Flow_Tailings   96.931650  100.112849\n",
              " 15     Pulp Volumetric Flow_Tailings  189.979478  191.809257\n",
              " 16                Solids SG_Tailings   14.331055   14.484622\n",
              " 17                  Pulp SG_Tailings    2.608322    2.636842\n",
              " 18          Solids Fraction_Tailings    1.113487    1.406187\n",
              " 19                          Cu_Tails    0.090771    0.125270\n",
              " 20                          Pb_Tails    4.570307    5.719532\n",
              " 21                          Fe_Tails    4.561328    5.796588\n",
              " 22                          Zn_Tails    0.134702    0.179070,\n",
              " 42.72749437155785,\n",
              " 45.20255529974024)"
            ]
          },
          "metadata": {},
          "execution_count": 6
        }
      ]
    },
    {
      "cell_type": "code",
      "source": [
        "import pandas as pd\n",
        "from sklearn.metrics import mean_absolute_error, mean_squared_error\n",
        "\n",
        "# Load the data from the files\n",
        "ground_truth_df = pd.read_excel('/content/output_data.xlsx')  # Replace with the actual path\n",
        "predicted_df = pd.read_excel('/content/output_predictions1.xlsx')\n",
        "\n",
        "# Ensure both DataFrames have the same number of rows\n",
        "if ground_truth_df.shape[0] != predicted_df.shape[0]:\n",
        "    raise ValueError(\"Number of rows in ground truth and predicted DataFrames must be the same.\")\n",
        "\n",
        "def mean_absolute_percentage_error(y_true, y_pred, threshold=1e-4):  # Augmenter le seuil\n",
        "    y_true, y_pred = np.array(y_true), np.array(y_pred)\n",
        "    valid_mask = np.abs(y_true) > threshold\n",
        "    if np.any(valid_mask):\n",
        "        return np.mean(np.abs((y_true[valid_mask] - y_pred[valid_mask]) / y_true[valid_mask])) * 100\n",
        "    else:\n",
        "        return np.nan\n",
        "\n",
        "\n",
        "# Calculer le MAPE pour chaque colonne en excluant les valeurs très petites\n",
        "mape_scores = [mean_absolute_percentage_error(actual_values[:, i], predicted_values[:, i]) for i in range(actual_values.shape[1])]\n",
        "\n",
        "# Recalculer la moyenne du MAPE en excluant les NaN\n",
        "average_mape = np.nanmean([mape for mape in mape_scores if not np.isnan(mape)])\n",
        "\n",
        "# Affichage des résultats\n",
        "mape_results = [f'{col} MAPE: {mape:.2f}%' for col, mape in zip(ground_truth_df.columns, mape_scores)]\n",
        "mape_results.append(f'Average MAPE: {average_mape:.2f}%')\n",
        "for result in mape_results:\n",
        "    print(result)\n"
      ],
      "metadata": {
        "colab": {
          "base_uri": "https://localhost:8080/"
        },
        "id": "yZPBVAzN6s1R",
        "outputId": "eb0ebd21-d423-46f6-d4dc-9c76c950bfb0"
      },
      "execution_count": null,
      "outputs": [
        {
          "output_type": "stream",
          "name": "stdout",
          "text": [
            "Air Efficiency MAPE: 12.04%\n",
            " Flotation Rate MAPE: 72.09%\n",
            "Entrainment: Cell 1 MAPE: 1.68%\n",
            "Total Solids Flow_Concentrate MAPE: 16.84%\n",
            "Total Liquid Flow_Concentrate MAPE: 1137.67%\n",
            "Pulp Volumetric Flow_Concentrate MAPE: 358.00%\n",
            "Solids SG_Concentrate MAPE: 17.81%\n",
            "Pulp SG_Concentrate MAPE: 48.56%\n",
            "Solids Fraction_Concentrate MAPE: 80.50%\n",
            "Cu_Concentrate MAPE: 2588.06%\n",
            "Pb_Concentrate MAPE: 589.99%\n",
            "Fe_Concentrate MAPE: 193.75%\n",
            "Zn_Concentrate MAPE: 63.01%\n",
            "Total Solids Flow_Tailings MAPE: 96.71%\n",
            "Total Liquid Flow_Tailings MAPE: 57.46%\n",
            "Pulp Volumetric Flow_Tailings MAPE: 97.68%\n",
            "Solids SG_Tailings MAPE: 315.98%\n",
            "Pulp SG_Tailings MAPE: 188.88%\n",
            "Solids Fraction_Tailings MAPE: 10.13%\n",
            "Cu_Tails MAPE: 1.87%\n",
            "Pb_Tails MAPE: 19.58%\n",
            "Fe_Tails MAPE: 28.05%\n",
            "Zn_Tails MAPE: 1.66%\n",
            "Average MAPE: 260.78%\n"
          ]
        }
      ]
    },
    {
      "cell_type": "code",
      "source": [
        "import pandas as pd\n",
        "from sklearn.metrics import mean_absolute_error\n",
        "\n",
        "# Load the data from the files\n",
        "# Load the data from the files\n",
        "ground_truth_df = pd.read_excel('/content/output_data.xlsx')  # Replace with the actual path\n",
        "predicted_df = pd.read_excel('/content/output_predictions1.xlsx') # Replace with the actual path\n",
        "\n",
        "# Ensure both DataFrames have the same number of rows\n",
        "if ground_truth_df.shape[0] != predicted_df.shape[0]:\n",
        "    raise ValueError(\"Number of rows in ground truth and predicted DataFrames must be the same.\")\n",
        "\n",
        "# Columns for which you want to calculate accuracy\n",
        "selected_columns = ['Air Efficiency', 'Entrainment: Cell 1', 'Total Solids Flow_Concentrate', 'Total Liquid Flow_Concentrate', 'Pulp Volumetric Flow_Concentrate', 'Solids SG_Concentrate', 'Pulp SG_Concentrate', 'Solids Fraction_Concentrate', 'Total Solids Flow_Tailings', 'Total Liquid Flow_Tailings', 'Pulp Volumetric Flow_Tailings', 'Solids SG_Tailings', 'Pulp SG_Tailings', 'Solids Fraction_Tailings', 'Cu_Tails', 'Fe_Tails', 'Pb_Tails', 'Zn_Tails', 'Cu_Concentrate', 'Fe_Concentrate', 'Pb_Concentrate', 'Zn_Concentrate']\n",
        "\n",
        "# Extract ground truth and predicted values for the specified columns\n",
        "actual_values = ground_truth_df[selected_columns].values\n",
        "predicted_values = predicted_df[selected_columns].values\n",
        "\n",
        "# Calculate Mean Absolute Error (MAE) for each column\n",
        "mae_values = [mean_absolute_error(actual_values[:, i], predicted_values[:, i]) for i in range(len(selected_columns))]\n",
        "\n",
        "# Print individual MAE values and average MAE\n",
        "for col, mae in zip(selected_columns, mae_values):\n",
        "    print(f'{col} MAE: {mae:.2f}')\n",
        "\n",
        "average_mae = sum(mae_values) / len(mae_values)\n",
        "print(f'Average MAE: {average_mae:.2f}')\n"
      ],
      "metadata": {
        "colab": {
          "base_uri": "https://localhost:8080/"
        },
        "id": "ZoSbHnRV968z",
        "outputId": "8c84bdde-340d-477e-bb14-5ad9e3411cf2"
      },
      "execution_count": null,
      "outputs": [
        {
          "output_type": "stream",
          "name": "stdout",
          "text": [
            "Air Efficiency MAE: 19.03\n",
            "Entrainment: Cell 1 MAE: 0.00\n",
            "Total Solids Flow_Concentrate MAE: 20.51\n",
            "Total Liquid Flow_Concentrate MAE: 153.42\n",
            "Pulp Volumetric Flow_Concentrate MAE: 149.04\n",
            "Solids SG_Concentrate MAE: 0.68\n",
            "Pulp SG_Concentrate MAE: 1.51\n",
            "Solids Fraction_Concentrate MAE: 55.83\n",
            "Total Solids Flow_Tailings MAE: 20.25\n",
            "Total Liquid Flow_Tailings MAE: 154.11\n",
            "Pulp Volumetric Flow_Tailings MAE: 143.44\n",
            "Solids SG_Tailings MAE: 0.71\n",
            "Pulp SG_Tailings MAE: 1.84\n",
            "Solids Fraction_Tailings MAE: 65.60\n",
            "Cu_Tails MAE: 0.76\n",
            "Fe_Tails MAE: 1.00\n",
            "Pb_Tails MAE: 18.07\n",
            "Zn_Tails MAE: 2.18\n",
            "Cu_Concentrate MAE: 0.78\n",
            "Fe_Concentrate MAE: 0.67\n",
            "Pb_Concentrate MAE: 17.97\n",
            "Zn_Concentrate MAE: 2.46\n",
            "Average MAE: 37.72\n"
          ]
        }
      ]
    },
    {
      "cell_type": "markdown",
      "source": [
        "**Accuracy Tails premiére model1**"
      ],
      "metadata": {
        "id": "Ztg_S4McDVl-"
      }
    },
    {
      "cell_type": "code",
      "source": [
        "import pandas as pd\n",
        "from sklearn.metrics import mean_absolute_error\n",
        "\n",
        "# Load the data from the files\n",
        "# Load the data from the files\n",
        "ground_truth_df = pd.read_excel('/content/output_data.xlsx')  # Replace with the actual path\n",
        "predicted_df = pd.read_excel('/content/output_predictions1.xlsx') # Replace with the actual path\n",
        "\n",
        "# Ensure both DataFrames have the same number of rows\n",
        "if ground_truth_df.shape[0] != predicted_df.shape[0]:\n",
        "    raise ValueError(\"Number of rows in ground truth and predicted DataFrames must be the same.\")\n",
        "\n",
        "# Columns for which you want to calculate accuracy\n",
        "selected_columns = ['Total Solids Flow_Tailings', 'Total Liquid Flow_Tailings', 'Pulp Volumetric Flow_Tailings', 'Solids SG_Tailings', 'Pulp SG_Tailings', 'Solids Fraction_Tailings', 'Cu_Tails', 'Fe_Tails', 'Pb_Tails', 'Zn_Tails']\n",
        "\n",
        "# Extract ground truth and predicted values for the specified columns\n",
        "actual_values = ground_truth_df[selected_columns].values\n",
        "predicted_values = predicted_df[selected_columns].values\n",
        "\n",
        "# Calculate Mean Absolute Error (MAE) for each column\n",
        "mae_values = [mean_absolute_error(actual_values[:, i], predicted_values[:, i]) for i in range(len(selected_columns))]\n",
        "\n",
        "# Print individual MAE values and average MAE\n",
        "for col, mae in zip(selected_columns, mae_values):\n",
        "    print(f'{col} MAE: {mae:.2f}')\n",
        "\n",
        "average_mae = sum(mae_values) / len(mae_values)\n",
        "print(f'Average MAE: {average_mae:.2f}')\n"
      ],
      "metadata": {
        "colab": {
          "base_uri": "https://localhost:8080/"
        },
        "id": "UN13cfOACx0A",
        "outputId": "1e83d710-dca1-48c5-a3d6-deda35246d13"
      },
      "execution_count": null,
      "outputs": [
        {
          "output_type": "stream",
          "name": "stdout",
          "text": [
            "Total Solids Flow_Tailings MAE: 20.25\n",
            "Total Liquid Flow_Tailings MAE: 154.11\n",
            "Pulp Volumetric Flow_Tailings MAE: 143.44\n",
            "Solids SG_Tailings MAE: 0.71\n",
            "Pulp SG_Tailings MAE: 1.84\n",
            "Solids Fraction_Tailings MAE: 65.60\n",
            "Cu_Tails MAE: 0.76\n",
            "Fe_Tails MAE: 1.00\n",
            "Pb_Tails MAE: 18.07\n",
            "Zn_Tails MAE: 2.18\n",
            "Average MAE: 40.80\n"
          ]
        }
      ]
    },
    {
      "cell_type": "code",
      "source": [
        "import pandas as pd\n",
        "from sklearn.metrics import mean_absolute_error\n",
        "\n",
        "# Load the data from the files\n",
        "# Load the data from the files\n",
        "ground_truth_df = pd.read_excel('/content/output_data.xlsx')  # Replace with the actual path\n",
        "predicted_df = pd.read_excel('/content/output_predictions1.xlsx') # Replace with the actual path\n",
        "\n",
        "# Ensure both DataFrames have the same number of rows\n",
        "if ground_truth_df.shape[0] != predicted_df.shape[0]:\n",
        "    raise ValueError(\"Number of rows in ground truth and predicted DataFrames must be the same.\")\n",
        "\n",
        "# Columns for which you want to calculate accuracy\n",
        "selected_columns = ['Total Solids Flow_Concentrate', 'Total Liquid Flow_Concentrate', 'Pulp Volumetric Flow_Concentrate', 'Solids SG_Concentrate', 'Pulp SG_Concentrate', 'Solids Fraction_Concentrate', 'Cu_Tails',  'Cu_Concentrate', 'Fe_Concentrate', 'Pb_Concentrate', 'Zn_Concentrate']\n",
        "\n",
        "# Extract ground truth and predicted values for the specified columns\n",
        "actual_values = ground_truth_df[selected_columns].values\n",
        "predicted_values = predicted_df[selected_columns].values\n",
        "\n",
        "# Calculate Mean Absolute Error (MAE) for each column\n",
        "mae_values = [mean_absolute_error(actual_values[:, i], predicted_values[:, i]) for i in range(len(selected_columns))]\n",
        "\n",
        "# Print individual MAE values and average MAE\n",
        "for col, mae in zip(selected_columns, mae_values):\n",
        "    print(f'{col} MAE: {mae:.2f}')\n",
        "\n",
        "average_mae = sum(mae_values) / len(mae_values)\n",
        "print(f'Average MAE: {average_mae:.2f}')\n"
      ],
      "metadata": {
        "colab": {
          "base_uri": "https://localhost:8080/"
        },
        "id": "-gYP_z9THI3y",
        "outputId": "8c3f5ec4-9943-4abf-8f30-f80fb0cf2787"
      },
      "execution_count": null,
      "outputs": [
        {
          "output_type": "stream",
          "name": "stdout",
          "text": [
            "Total Solids Flow_Concentrate MAE: 20.51\n",
            "Total Liquid Flow_Concentrate MAE: 153.42\n",
            "Pulp Volumetric Flow_Concentrate MAE: 149.04\n",
            "Solids SG_Concentrate MAE: 0.68\n",
            "Pulp SG_Concentrate MAE: 1.51\n",
            "Solids Fraction_Concentrate MAE: 55.83\n",
            "Cu_Tails MAE: 0.76\n",
            "Cu_Concentrate MAE: 0.78\n",
            "Fe_Concentrate MAE: 0.67\n",
            "Pb_Concentrate MAE: 17.97\n",
            "Zn_Concentrate MAE: 2.46\n",
            "Average MAE: 36.69\n"
          ]
        }
      ]
    },
    {
      "cell_type": "markdown",
      "source": [],
      "metadata": {
        "id": "3j6U6LLxHHp4"
      }
    },
    {
      "cell_type": "markdown",
      "source": [
        "**model 3**"
      ],
      "metadata": {
        "id": "W5bztg_dD2F1"
      }
    },
    {
      "cell_type": "code",
      "source": [
        "import pandas as pd\n",
        "from tensorflow.keras.models import load_model\n",
        "from joblib import load\n",
        "# Custom R2 metric function\n",
        "def r2_keras(output_index):\n",
        "    def r2(y_true, y_pred):\n",
        "        SS_res =  K.sum(K.square(y_true[:,output_index] - y_pred[:,output_index]))\n",
        "        SS_tot = K.sum(K.square(y_true[:,output_index] - K.mean(y_true[:,output_index])))\n",
        "        r2 = 1 - SS_res/(SS_tot + K.epsilon())\n",
        "        return r2\n",
        "    r2._name_ = f\"r2_{output_index}\"\n",
        "    return r2\n",
        "# Load the CSV data\n",
        "data = pd.read_excel('/content/input3.xlsx', engine='openpyxl')\n",
        "\n",
        "\n",
        "# Select the desired columns\n",
        "selected_columns = ['Net Volume','Pulp Area', 'Froth surface area', 'Froth thickness', 'Air Flow rate', 'R_inf Ccp', 'R_inf Gn', 'R_inf Po', 'R_inf Sp', 'k_max Ccp', 'k_max Gn', 'k_maxPo', 'k_max Sp', 'Entrainement Savassi parameters', 'Total Solids Flow_Feed','Total Liquid Flow_Feed','Pulp Volumetric Flow_Feed', 'Solids SG_Feed', 'Pulp SG_Feed', 'Solids Fraction_Feed', 'Cu_Feed', 'Fe_Feed','Pb_Feed', 'Zn_Feed' ]  # Add all your columns\n",
        "input_data = data[selected_columns]\n",
        "\n",
        "# Load the machine learning model\n",
        "model_3 = load_model('/content/model7_23.h5', custom_objects={f'r2_{i}': r2_keras(i) for i in range(23)})\n",
        "\n",
        "# Load the scalers\n",
        "scalerX = load('/content/scalerX_24.joblib')\n",
        "scalerY = load('/content/scalerY_23.joblib')\n",
        "\n",
        "# Scale input features\n",
        "scaled_input = scalerX.transform(input_data)\n",
        "\n",
        "# Make predictions\n",
        "raw_predictions = model_3.predict(scaled_input)\n",
        "\n",
        "# Reverse scale the output\n",
        "final_predictions3 = scalerY.inverse_transform(raw_predictions)\n",
        "\n",
        "# Display the predictions\n",
        "print(final_predictions3)\n"
      ],
      "metadata": {
        "colab": {
          "base_uri": "https://localhost:8080/"
        },
        "id": "XEy4aKSs_jIv",
        "outputId": "6b346777-379b-4f57-f062-f964c83c1252"
      },
      "execution_count": null,
      "outputs": [
        {
          "output_type": "stream",
          "name": "stdout",
          "text": [
            "4/4 [==============================] - 0s 3ms/step\n",
            "[[4.1501755e+02 3.2046092e-01 5.1672286e-01 ... 2.5405834e+01\n",
            "  1.2284738e+01 1.5849674e+01]\n",
            " [7.1928119e+02 6.6778570e-01 7.8044552e-01 ... 3.4462818e+01\n",
            "  8.7103243e+00 2.2986769e+01]\n",
            " [4.1801306e+02 3.4595144e-01 5.3281832e-01 ... 2.6603273e+01\n",
            "  1.1993875e+01 1.5754798e+01]\n",
            " ...\n",
            " [5.4662585e+02 4.7401398e-01 6.3193321e-01 ... 3.0585390e+01\n",
            "  1.0446027e+01 1.8562387e+01]\n",
            " [2.3832800e+02 1.5576310e-01 3.5401505e-01 ... 2.2218422e+01\n",
            "  1.2965219e+01 1.1262331e+01]\n",
            " [6.6577222e+02 6.3063371e-01 7.3443002e-01 ... 3.3593712e+01\n",
            "  9.1655388e+00 2.1077110e+01]]\n"
          ]
        }
      ]
    },
    {
      "cell_type": "code",
      "source": [
        "import pandas as pd\n",
        "\n",
        "# Assuming 'final_predictions' contains your predictions\n",
        "# You can replace it with the actual variable name if it's different\n",
        "predictions_df = pd.DataFrame(final_predictions, columns=['Air Efficiency', 'Flotation Rate: Cell 3', 'Entrainment: Cell 3', 'Total Solids Flow_Concentrate', 'Total Liquid Flow_Concentrate', 'Pulp Volumetric Flow_Concentrate', 'Solids SG_Concentrate', 'Pulp SG_Concentrate', 'Solids Fraction_Concentrate', 'Total Solids Flow_Tailings', 'Total Liquid Flow_Tailings', 'Pulp Volumetric Flow_Tailings', 'Solids SG_Tailings', 'Pulp SG_Tailings', 'Solids Fraction_Tailings', 'Cu_Tails', 'Fe_Tails', 'Pb_Tails', 'Zn_Tails', 'Cu_Concentrate', 'Fe_Concentrate', 'Pb_Concentrate', 'Zn_Concentrate'])\n",
        "\n",
        "# Save the DataFrame to a CSV file\n",
        "predictions_df.head(100).to_excel('/content/output_predictions3.xlsx', index=False)\n"
      ],
      "metadata": {
        "id": "QiSnvy9gR3j9"
      },
      "execution_count": null,
      "outputs": []
    },
    {
      "cell_type": "markdown",
      "source": [
        "**accuracy tailde model 3**"
      ],
      "metadata": {
        "id": "C6YmVaYfSH7t"
      }
    },
    {
      "cell_type": "code",
      "source": [
        "import pandas as pd\n",
        "from sklearn.metrics import mean_absolute_error\n",
        "\n",
        "# Load the data from the files\n",
        "# Load the data from the files\n",
        "ground_truth_df = pd.read_excel('/content/output_data_3.xlsx')  # Replace with the actual path\n",
        "predicted_df = pd.read_excel('/content/output_predictions3.xlsx') # Replace with the actual path\n",
        "\n",
        "# Ensure both DataFrames have the same number of rows\n",
        "if ground_truth_df.shape[0] != predicted_df.shape[0]:\n",
        "    raise ValueError(\"Number of rows in ground truth and predicted DataFrames must be the same.\")\n",
        "\n",
        "# Columns for which you want to calculate accuracy\n",
        "selected_columns = ['Total Solids Flow_Tailings', 'Total Liquid Flow_Tailings', 'Pulp Volumetric Flow_Tailings', 'Solids SG_Tailings', 'Pulp SG_Tailings', 'Solids Fraction_Tailings', 'Cu_Tails', 'Fe_Tails', 'Pb_Tails', 'Zn_Tails']\n",
        "\n",
        "# Extract ground truth and predicted values for the specified columns\n",
        "actual_values = ground_truth_df[selected_columns].values\n",
        "predicted_values = predicted_df[selected_columns].values\n",
        "\n",
        "# Calculate Mean Absolute Error (MAE) for each column\n",
        "mae_values = [mean_absolute_error(actual_values[:, i], predicted_values[:, i]) for i in range(len(selected_columns))]\n",
        "\n",
        "# Print individual MAE values and average MAE\n",
        "for col, mae in zip(selected_columns, mae_values):\n",
        "    print(f'{col} MAE: {mae:.2f}')\n",
        "\n",
        "average_mae = sum(mae_values) / len(mae_values)\n",
        "print(f'Average MAE: {average_mae:.2f}')\n"
      ],
      "metadata": {
        "colab": {
          "base_uri": "https://localhost:8080/"
        },
        "id": "AEGGaZFHSGs-",
        "outputId": "7ee498be-d096-4d6b-f4dc-238ec1c07e63"
      },
      "execution_count": null,
      "outputs": [
        {
          "output_type": "stream",
          "name": "stdout",
          "text": [
            "Total Solids Flow_Tailings MAE: 91.06\n",
            "Total Liquid Flow_Tailings MAE: 33.14\n",
            "Pulp Volumetric Flow_Tailings MAE: 26.02\n",
            "Solids SG_Tailings MAE: 0.03\n",
            "Pulp SG_Tailings MAE: 1.82\n",
            "Solids Fraction_Tailings MAE: 62.51\n",
            "Cu_Tails MAE: 0.09\n",
            "Fe_Tails MAE: 0.52\n",
            "Pb_Tails MAE: 1.12\n",
            "Zn_Tails MAE: 0.18\n",
            "Average MAE: 21.65\n"
          ]
        }
      ]
    },
    {
      "cell_type": "code",
      "source": [
        "import pandas as pd\n",
        "from sklearn.metrics import mean_absolute_error\n",
        "\n",
        "# Load the data from the files\n",
        "# Load the data from the files\n",
        "ground_truth_df = pd.read_excel('/content/output_data_3.xlsx')  # Replace with the actual path\n",
        "predicted_df = pd.read_excel('/content/output_predictions3.xlsx') # Replace with the actual path\n",
        "\n",
        "# Ensure both DataFrames have the same number of rows\n",
        "if ground_truth_df.shape[0] != predicted_df.shape[0]:\n",
        "    raise ValueError(\"Number of rows in ground truth and predicted DataFrames must be the same.\")\n",
        "\n",
        "# Columns for which you want to calculate accuracy\n",
        "selected_columns = ['Air Efficiency', 'Flotation Rate: Cell 3', 'Entrainment: Cell 3', 'Total Solids Flow_Concentrate', 'Total Liquid Flow_Concentrate', 'Pulp Volumetric Flow_Concentrate', 'Solids SG_Concentrate', 'Pulp SG_Concentrate', 'Solids Fraction_Concentrate', 'Total Solids Flow_Tailings', 'Total Liquid Flow_Tailings', 'Pulp Volumetric Flow_Tailings', 'Solids SG_Tailings', 'Pulp SG_Tailings', 'Solids Fraction_Tailings', 'Cu_Tails', 'Fe_Tails', 'Pb_Tails', 'Zn_Tails', 'Cu_Concentrate', 'Fe_Concentrate', 'Pb_Concentrate', 'Zn_Concentrate']\n",
        "\n",
        "# Extract ground truth and predicted values for the specified columns\n",
        "actual_values = ground_truth_df[selected_columns].values\n",
        "predicted_values = predicted_df[selected_columns].values\n",
        "\n",
        "# Calculate Mean Absolute Error (MAE) for each column\n",
        "mae_values = [mean_absolute_error(actual_values[:, i], predicted_values[:, i]) for i in range(len(selected_columns))]\n",
        "\n",
        "# Print individual MAE values and average MAE\n",
        "for col, mae in zip(selected_columns, mae_values):\n",
        "    print(f'{col} MAE: {mae:.2f}')\n",
        "\n",
        "average_mae = sum(mae_values) / len(mae_values)\n",
        "print(f'Average MAE: {average_mae:.2f}')\n"
      ],
      "metadata": {
        "colab": {
          "base_uri": "https://localhost:8080/"
        },
        "id": "_6ZdGbkteCjk",
        "outputId": "ad45c426-ecb2-48d2-e37f-71ba473d0200"
      },
      "execution_count": null,
      "outputs": [
        {
          "output_type": "stream",
          "name": "stdout",
          "text": [
            "Air Efficiency MAE: 57.85\n",
            "Flotation Rate: Cell 3 MAE: 0.07\n",
            "Entrainment: Cell 3 MAE: 0.02\n",
            "Total Solids Flow_Concentrate MAE: 31.19\n",
            "Total Liquid Flow_Concentrate MAE: 47.61\n",
            "Pulp Volumetric Flow_Concentrate MAE: 59.78\n",
            "Solids SG_Concentrate MAE: 0.31\n",
            "Pulp SG_Concentrate MAE: 0.01\n",
            "Solids Fraction_Concentrate MAE: 0.64\n",
            "Total Solids Flow_Tailings MAE: 91.06\n",
            "Total Liquid Flow_Tailings MAE: 33.14\n",
            "Pulp Volumetric Flow_Tailings MAE: 26.02\n",
            "Solids SG_Tailings MAE: 0.03\n",
            "Pulp SG_Tailings MAE: 1.82\n",
            "Solids Fraction_Tailings MAE: 62.51\n",
            "Cu_Tails MAE: 0.09\n",
            "Fe_Tails MAE: 0.52\n",
            "Pb_Tails MAE: 1.12\n",
            "Zn_Tails MAE: 0.18\n",
            "Cu_Concentrate MAE: 0.28\n",
            "Fe_Concentrate MAE: 0.30\n",
            "Pb_Concentrate MAE: 2.55\n",
            "Zn_Concentrate MAE: 0.78\n",
            "Average MAE: 18.17\n"
          ]
        }
      ]
    },
    {
      "cell_type": "markdown",
      "source": [
        "**model 5**"
      ],
      "metadata": {
        "id": "Y8-lWcodgoTV"
      }
    },
    {
      "cell_type": "code",
      "source": [
        "import pandas as pd\n",
        "from tensorflow.keras.models import load_model\n",
        "from joblib import load\n",
        "# Custom R2 metric function\n",
        "def r2_keras(output_index):\n",
        "    def r2(y_true, y_pred):\n",
        "        SS_res =  K.sum(K.square(y_true[:,output_index] - y_pred[:,output_index]))\n",
        "        SS_tot = K.sum(K.square(y_true[:,output_index] - K.mean(y_true[:,output_index])))\n",
        "        r2 = 1 - SS_res/(SS_tot + K.epsilon())\n",
        "        return r2\n",
        "    r2._name_ = f\"r2_{output_index}\"\n",
        "    return r2\n",
        "# Load the CSV data\n",
        "data = pd.read_excel('/content/input5.xlsx', engine='openpyxl')\n",
        "\n",
        "\n",
        "# Select the desired columns\n",
        "selected_columns = ['Net Volume','Pulp Area', 'Froth surface area', 'Froth thickness', 'Air Flow rate', 'R_inf Ccp', 'R_inf Gn', 'R_inf Po', 'R_inf Sp', 'k_max Ccp', 'k_max Gn', 'k_maxPo', 'k_max Sp', 'Entrainement Savassi parameters', 'Total Solids Flow_Feed','Total Liquid Flow_Feed','Pulp Volumetric Flow_Feed', 'Solids SG_Feed', 'Pulp SG_Feed', 'Solids Fraction_Feed', 'Cu_Feed', 'Fe_Feed','Pb_Feed', 'Zn_Feed' ]  # Add all your columns\n",
        "input_data = data[selected_columns]\n",
        "\n",
        "# Load the machine learning model\n",
        "model_3 = load_model('/content/model7_23.h5', custom_objects={f'r2_{i}': r2_keras(i) for i in range(23)})\n",
        "\n",
        "# Load the scalers\n",
        "scalerX = load('/content/scalerX_24.joblib')\n",
        "scalerY = load('/content/scalerY_23.joblib')\n",
        "\n",
        "# Scale input features\n",
        "scaled_input = scalerX.transform(input_data)\n",
        "\n",
        "# Make predictions\n",
        "raw_predictions = model_3.predict(scaled_input)\n",
        "\n",
        "# Reverse scale the output\n",
        "final_predictions3 = scalerY.inverse_transform(raw_predictions)\n",
        "\n",
        "# Display the predictions\n",
        "print(final_predictions3)\n"
      ],
      "metadata": {
        "colab": {
          "base_uri": "https://localhost:8080/"
        },
        "id": "P9iEoruCeP0C",
        "outputId": "03860e88-2883-4284-fb14-f21761254ca8"
      },
      "execution_count": null,
      "outputs": [
        {
          "output_type": "stream",
          "name": "stdout",
          "text": [
            "4/4 [==============================] - 0s 5ms/step\n",
            "[[4.1501755e+02 3.2046092e-01 5.1672286e-01 ... 2.5405834e+01\n",
            "  1.2284738e+01 1.5849674e+01]\n",
            " [7.1928119e+02 6.6778570e-01 7.8044552e-01 ... 3.4462818e+01\n",
            "  8.7103243e+00 2.2986769e+01]\n",
            " [4.1801306e+02 3.4595144e-01 5.3281832e-01 ... 2.6603273e+01\n",
            "  1.1993875e+01 1.5754798e+01]\n",
            " ...\n",
            " [5.4662585e+02 4.7401398e-01 6.3193321e-01 ... 3.0585390e+01\n",
            "  1.0446027e+01 1.8562387e+01]\n",
            " [2.3832800e+02 1.5576310e-01 3.5401505e-01 ... 2.2218422e+01\n",
            "  1.2965219e+01 1.1262331e+01]\n",
            " [6.6577222e+02 6.3063371e-01 7.3443002e-01 ... 3.3593712e+01\n",
            "  9.1655388e+00 2.1077110e+01]]\n"
          ]
        }
      ]
    },
    {
      "cell_type": "code",
      "source": [
        "import pandas as pd\n",
        "\n",
        "# Assuming 'final_predictions' contains your predictions\n",
        "# You can replace it with the actual variable name if it's different\n",
        "predictions_df = pd.DataFrame(final_predictions, columns=['Air Efficiency', 'Flotation Rate: Cell 5', 'Entrainment: Cell 5', 'Total Solids Flow_Concentrate', 'Total Liquid Flow_Concentrate', 'Pulp Volumetric Flow_Concentrate', 'Solids SG_Concentrate', 'Pulp SG_Concentrate', 'Solids Fraction_Concentrate', 'Total Solids Flow_Tailings', 'Total Liquid Flow_Tailings', 'Pulp Volumetric Flow_Tailings', 'Solids SG_Tailings', 'Pulp SG_Tailings', 'Solids Fraction_Tailings', 'Cu_Tails', 'Fe_Tails', 'Pb_Tails', 'Zn_Tails', 'Cu_Concentrate', 'Fe_Concentrate', 'Pb_Concentrate', 'Zn_Concentrate'])\n",
        "\n",
        "# Save the DataFrame to a CSV file\n",
        "predictions_df.head(100).to_excel('/content/output_predictions5.xlsx', index=False)\n"
      ],
      "metadata": {
        "id": "VEfeCXRShiFJ"
      },
      "execution_count": null,
      "outputs": []
    },
    {
      "cell_type": "markdown",
      "source": [
        "***calcule accuracy model 5***"
      ],
      "metadata": {
        "id": "R82fRB1ehrDf"
      }
    },
    {
      "cell_type": "code",
      "source": [
        "import pandas as pd\n",
        "from sklearn.metrics import mean_absolute_error\n",
        "\n",
        "# Load the data from the files\n",
        "# Load the data from the files\n",
        "ground_truth_df = pd.read_excel('/content/output_data_5.xlsx')  # Replace with the actual path\n",
        "predicted_df = pd.read_excel('/content/output_predictions5.xlsx') # Replace with the actual path\n",
        "\n",
        "# Ensure both DataFrames have the same number of rows\n",
        "if ground_truth_df.shape[0] != predicted_df.shape[0]:\n",
        "    raise ValueError(\"Number of rows in ground truth and predicted DataFrames must be the same.\")\n",
        "\n",
        "# Columns for which you want to calculate accuracy\n",
        "selected_columns = ['Total Solids Flow_Tailings', 'Total Liquid Flow_Tailings', 'Pulp Volumetric Flow_Tailings', 'Solids SG_Tailings', 'Pulp SG_Tailings', 'Solids Fraction_Tailings', 'Cu_Tails', 'Fe_Tails', 'Pb_Tails', 'Zn_Tails']\n",
        "\n",
        "# Extract ground truth and predicted values for the specified columns\n",
        "actual_values = ground_truth_df[selected_columns].values\n",
        "predicted_values = predicted_df[selected_columns].values\n",
        "\n",
        "# Calculate Mean Absolute Error (MAE) for each column\n",
        "mae_values = [mean_absolute_error(actual_values[:, i], predicted_values[:, i]) for i in range(len(selected_columns))]\n",
        "\n",
        "# Print individual MAE values and average MAE\n",
        "for col, mae in zip(selected_columns, mae_values):\n",
        "    print(f'{col} MAE: {mae:.2f}')\n",
        "\n",
        "average_mae = sum(mae_values) / len(mae_values)\n",
        "print(f'Average MAE: {average_mae:.2f}')\n"
      ],
      "metadata": {
        "colab": {
          "base_uri": "https://localhost:8080/"
        },
        "id": "JW6VxGWChzUO",
        "outputId": "0f403d2f-c7e9-4d32-a137-808092fdf0b9"
      },
      "execution_count": null,
      "outputs": [
        {
          "output_type": "stream",
          "name": "stdout",
          "text": [
            "Total Solids Flow_Tailings MAE: 92.23\n",
            "Total Liquid Flow_Tailings MAE: 31.55\n",
            "Pulp Volumetric Flow_Tailings MAE: 25.16\n",
            "Solids SG_Tailings MAE: 0.02\n",
            "Pulp SG_Tailings MAE: 1.81\n",
            "Solids Fraction_Tailings MAE: 61.86\n",
            "Cu_Tails MAE: 0.11\n",
            "Fe_Tails MAE: 0.23\n",
            "Pb_Tails MAE: 0.87\n",
            "Zn_Tails MAE: 0.39\n",
            "Average MAE: 21.42\n"
          ]
        }
      ]
    },
    {
      "cell_type": "code",
      "source": [
        "import pandas as pd\n",
        "from sklearn.metrics import mean_absolute_error\n",
        "\n",
        "# Load the data from the files\n",
        "# Load the data from the files\n",
        "ground_truth_df = pd.read_excel('/content/output_data_5.xlsx')  # Replace with the actual path\n",
        "predicted_df = pd.read_excel('/content/output_predictions5.xlsx') # Replace with the actual path\n",
        "\n",
        "# Ensure both DataFrames have the same number of rows\n",
        "if ground_truth_df.shape[0] != predicted_df.shape[0]:\n",
        "    raise ValueError(\"Number of rows in ground truth and predicted DataFrames must be the same.\")\n",
        "\n",
        "# Columns for which you want to calculate accuracy\n",
        "selected_columns = ['Air Efficiency', 'Flotation Rate: Cell 5', 'Entrainment: Cell 5', 'Total Solids Flow_Concentrate', 'Total Liquid Flow_Concentrate', 'Pulp Volumetric Flow_Concentrate', 'Solids SG_Concentrate', 'Pulp SG_Concentrate', 'Solids Fraction_Concentrate', 'Total Solids Flow_Tailings', 'Total Liquid Flow_Tailings', 'Pulp Volumetric Flow_Tailings', 'Solids SG_Tailings', 'Pulp SG_Tailings', 'Solids Fraction_Tailings', 'Cu_Tails', 'Fe_Tails', 'Pb_Tails', 'Zn_Tails', 'Cu_Concentrate', 'Fe_Concentrate', 'Pb_Concentrate', 'Zn_Concentrate']\n",
        "\n",
        "# Extract ground truth and predicted values for the specified columns\n",
        "actual_values = ground_truth_df[selected_columns].values\n",
        "predicted_values = predicted_df[selected_columns].values\n",
        "\n",
        "# Calculate Mean Absolute Error (MAE) for each column\n",
        "mae_values = [mean_absolute_error(actual_values[:, i], predicted_values[:, i]) for i in range(len(selected_columns))]\n",
        "\n",
        "# Print individual MAE values and average MAE\n",
        "for col, mae in zip(selected_columns, mae_values):\n",
        "    print(f'{col} MAE: {mae:.2f}')\n",
        "\n",
        "average_mae = sum(mae_values) / len(mae_values)\n",
        "print(f'Average MAE: {average_mae:.2f}')\n"
      ],
      "metadata": {
        "colab": {
          "base_uri": "https://localhost:8080/"
        },
        "id": "hYeYJaIAkbX0",
        "outputId": "b4e80287-99a8-4ace-8a1a-8f8acc3fe3a4"
      },
      "execution_count": null,
      "outputs": [
        {
          "output_type": "stream",
          "name": "stdout",
          "text": [
            "Air Efficiency MAE: 170.00\n",
            "Flotation Rate: Cell 5 MAE: 0.11\n",
            "Entrainment: Cell 5 MAE: 0.18\n",
            "Total Solids Flow_Concentrate MAE: 101.22\n",
            "Total Liquid Flow_Concentrate MAE: 177.66\n",
            "Pulp Volumetric Flow_Concentrate MAE: 204.78\n",
            "Solids SG_Concentrate MAE: 0.83\n",
            "Pulp SG_Concentrate MAE: 0.02\n",
            "Solids Fraction_Concentrate MAE: 1.51\n",
            "Total Solids Flow_Tailings MAE: 92.23\n",
            "Total Liquid Flow_Tailings MAE: 31.55\n",
            "Pulp Volumetric Flow_Tailings MAE: 25.16\n",
            "Solids SG_Tailings MAE: 0.02\n",
            "Pulp SG_Tailings MAE: 1.81\n",
            "Solids Fraction_Tailings MAE: 61.86\n",
            "Cu_Tails MAE: 0.11\n",
            "Fe_Tails MAE: 0.23\n",
            "Pb_Tails MAE: 0.87\n",
            "Zn_Tails MAE: 0.39\n",
            "Cu_Concentrate MAE: 2.21\n",
            "Fe_Concentrate MAE: 7.83\n",
            "Pb_Concentrate MAE: 25.83\n",
            "Zn_Concentrate MAE: 3.02\n",
            "Average MAE: 39.54\n"
          ]
        }
      ]
    }
  ]
}